{
 "cells": [
  {
   "cell_type": "code",
   "execution_count": 58,
   "metadata": {},
   "outputs": [],
   "source": [
    "import numpy as np\n",
    "import pandas as pd\n",
    "\n",
    "lead_highgrove = pd.read_csv(filepath_or_buffer=\"C:\\\\Users\\\\118183\\\\Documents\\\\2019\\\\Model\\\\Lead_Conversion\\\\HighGrove_01012020_29062021.csv\")"
   ]
  },
  {
   "cell_type": "code",
   "execution_count": 59,
   "metadata": {},
   "outputs": [
    {
     "data": {
      "text/html": [
       "<div>\n",
       "<style scoped>\n",
       "    .dataframe tbody tr th:only-of-type {\n",
       "        vertical-align: middle;\n",
       "    }\n",
       "\n",
       "    .dataframe tbody tr th {\n",
       "        vertical-align: top;\n",
       "    }\n",
       "\n",
       "    .dataframe thead th {\n",
       "        text-align: right;\n",
       "    }\n",
       "</style>\n",
       "<table border=\"1\" class=\"dataframe\">\n",
       "  <thead>\n",
       "    <tr style=\"text-align: right;\">\n",
       "      <th></th>\n",
       "      <th>Enquiry: Created Date</th>\n",
       "      <th>Enquiry Status</th>\n",
       "      <th>Original Source</th>\n",
       "      <th>Enquiry Source</th>\n",
       "      <th>Enquiry: Last Modified Date</th>\n",
       "      <th>CP Name</th>\n",
       "      <th>CP Organisation Name</th>\n",
       "      <th>Project Name</th>\n",
       "      <th>Primary contact Name</th>\n",
       "      <th>Enquiry: Enquiry ID</th>\n",
       "      <th>Mobile</th>\n",
       "    </tr>\n",
       "  </thead>\n",
       "  <tbody>\n",
       "    <tr>\n",
       "      <th>0</th>\n",
       "      <td>11/2/2020</td>\n",
       "      <td>Closed/ Lost</td>\n",
       "      <td>Newspaper Ad</td>\n",
       "      <td>Newspaper Ad</td>\n",
       "      <td>22/4/2021</td>\n",
       "      <td>NaN</td>\n",
       "      <td>NaN</td>\n",
       "      <td>Arvind Highgrove</td>\n",
       "      <td>Mr. Nipan .</td>\n",
       "      <td>ENQ - 00001079</td>\n",
       "      <td>919825109070</td>\n",
       "    </tr>\n",
       "    <tr>\n",
       "      <th>1</th>\n",
       "      <td>23/9/2020</td>\n",
       "      <td>Closed/ Lost</td>\n",
       "      <td>Facebook</td>\n",
       "      <td>Facebook</td>\n",
       "      <td>12/3/2021</td>\n",
       "      <td>NaN</td>\n",
       "      <td>NaN</td>\n",
       "      <td>Arvind Highgrove</td>\n",
       "      <td>Mr.  Nancy Sharma</td>\n",
       "      <td>ENQ - 00107894</td>\n",
       "      <td>917042713842</td>\n",
       "    </tr>\n",
       "    <tr>\n",
       "      <th>2</th>\n",
       "      <td>20/10/2020</td>\n",
       "      <td>Closed/ Lost</td>\n",
       "      <td>Hoarding</td>\n",
       "      <td>Hoarding</td>\n",
       "      <td>22/2/2021</td>\n",
       "      <td>NaN</td>\n",
       "      <td>NaN</td>\n",
       "      <td>Arvind Highgrove</td>\n",
       "      <td>Mr.  Daheri Lal</td>\n",
       "      <td>ENQ - 00114748</td>\n",
       "      <td>916353205443</td>\n",
       "    </tr>\n",
       "    <tr>\n",
       "      <th>3</th>\n",
       "      <td>11/2/2020</td>\n",
       "      <td>Closed/ Lost</td>\n",
       "      <td>Newspaper Ad</td>\n",
       "      <td>Newspaper Ad</td>\n",
       "      <td>22/4/2021</td>\n",
       "      <td>NaN</td>\n",
       "      <td>NaN</td>\n",
       "      <td>Arvind Highgrove</td>\n",
       "      <td>Mr. Nipan .</td>\n",
       "      <td>ENQ - 00001079</td>\n",
       "      <td>919825109070</td>\n",
       "    </tr>\n",
       "    <tr>\n",
       "      <th>4</th>\n",
       "      <td>23/9/2020</td>\n",
       "      <td>Closed/ Lost</td>\n",
       "      <td>Facebook</td>\n",
       "      <td>Facebook</td>\n",
       "      <td>12/3/2021</td>\n",
       "      <td>NaN</td>\n",
       "      <td>NaN</td>\n",
       "      <td>Arvind Highgrove</td>\n",
       "      <td>Mr.  Nancy Sharma</td>\n",
       "      <td>ENQ - 00107894</td>\n",
       "      <td>917042713842</td>\n",
       "    </tr>\n",
       "  </tbody>\n",
       "</table>\n",
       "</div>"
      ],
      "text/plain": [
       "  Enquiry: Created Date Enquiry Status Original Source Enquiry Source  \\\n",
       "0             11/2/2020   Closed/ Lost    Newspaper Ad   Newspaper Ad   \n",
       "1             23/9/2020   Closed/ Lost        Facebook       Facebook   \n",
       "2            20/10/2020   Closed/ Lost        Hoarding       Hoarding   \n",
       "3             11/2/2020   Closed/ Lost    Newspaper Ad   Newspaper Ad   \n",
       "4             23/9/2020   Closed/ Lost        Facebook       Facebook   \n",
       "\n",
       "  Enquiry: Last Modified Date CP Name CP Organisation Name      Project Name  \\\n",
       "0                   22/4/2021     NaN                  NaN  Arvind Highgrove   \n",
       "1                   12/3/2021     NaN                  NaN  Arvind Highgrove   \n",
       "2                   22/2/2021     NaN                  NaN  Arvind Highgrove   \n",
       "3                   22/4/2021     NaN                  NaN  Arvind Highgrove   \n",
       "4                   12/3/2021     NaN                  NaN  Arvind Highgrove   \n",
       "\n",
       "  Primary contact Name Enquiry: Enquiry ID        Mobile  \n",
       "0          Mr. Nipan .      ENQ - 00001079  919825109070  \n",
       "1    Mr.  Nancy Sharma      ENQ - 00107894  917042713842  \n",
       "2      Mr.  Daheri Lal      ENQ - 00114748  916353205443  \n",
       "3          Mr. Nipan .      ENQ - 00001079  919825109070  \n",
       "4    Mr.  Nancy Sharma      ENQ - 00107894  917042713842  "
      ]
     },
     "execution_count": 59,
     "metadata": {},
     "output_type": "execute_result"
    }
   ],
   "source": [
    "lead_highgrove.head()"
   ]
  },
  {
   "cell_type": "code",
   "execution_count": 60,
   "metadata": {},
   "outputs": [
    {
     "data": {
      "text/plain": [
       "Index(['Enquiry: Created Date', 'Enquiry Status', 'Original Source',\n",
       "       'Enquiry Source', 'Enquiry: Last Modified Date', 'CP Name',\n",
       "       'CP Organisation Name', 'Project Name', 'Primary contact Name',\n",
       "       'Enquiry: Enquiry ID', 'Mobile'],\n",
       "      dtype='object')"
      ]
     },
     "execution_count": 60,
     "metadata": {},
     "output_type": "execute_result"
    }
   ],
   "source": [
    "lead_highgrove.columns"
   ]
  },
  {
   "cell_type": "code",
   "execution_count": 61,
   "metadata": {},
   "outputs": [],
   "source": [
    "lead_highgrove.rename(columns={'Enquiry: Created Date': 'enq_created_date'}, inplace=True)"
   ]
  },
  {
   "cell_type": "code",
   "execution_count": 62,
   "metadata": {},
   "outputs": [],
   "source": [
    "lead_highgrove.rename(columns={'Enquiry Status':'enq_status','Original Source':'orginal_source','Enquiry Source':'enq_source', 'Enquiry: Last Modified Date':'enq_last_modified_date','CP Name':'CP_Name','CP Organisation Name':'CP_org_name','Project Name':'project','Primary contact Name':'customer_name','Enquiry: Enquiry ID':'enq_id','Mobile':'mobile'}, inplace=True)"
   ]
  },
  {
   "cell_type": "code",
   "execution_count": 63,
   "metadata": {},
   "outputs": [
    {
     "data": {
      "text/html": [
       "<div>\n",
       "<style scoped>\n",
       "    .dataframe tbody tr th:only-of-type {\n",
       "        vertical-align: middle;\n",
       "    }\n",
       "\n",
       "    .dataframe tbody tr th {\n",
       "        vertical-align: top;\n",
       "    }\n",
       "\n",
       "    .dataframe thead th {\n",
       "        text-align: right;\n",
       "    }\n",
       "</style>\n",
       "<table border=\"1\" class=\"dataframe\">\n",
       "  <thead>\n",
       "    <tr style=\"text-align: right;\">\n",
       "      <th></th>\n",
       "      <th>enq_created_date</th>\n",
       "      <th>enq_status</th>\n",
       "      <th>orginal_source</th>\n",
       "      <th>enq_source</th>\n",
       "      <th>enq_last_modified_date</th>\n",
       "      <th>CP_Name</th>\n",
       "      <th>CP_org_name</th>\n",
       "      <th>project</th>\n",
       "      <th>customer_name</th>\n",
       "      <th>enq_id</th>\n",
       "      <th>mobile</th>\n",
       "    </tr>\n",
       "  </thead>\n",
       "  <tbody>\n",
       "    <tr>\n",
       "      <th>0</th>\n",
       "      <td>11/2/2020</td>\n",
       "      <td>Closed/ Lost</td>\n",
       "      <td>Newspaper Ad</td>\n",
       "      <td>Newspaper Ad</td>\n",
       "      <td>22/4/2021</td>\n",
       "      <td>NaN</td>\n",
       "      <td>NaN</td>\n",
       "      <td>Arvind Highgrove</td>\n",
       "      <td>Mr. Nipan .</td>\n",
       "      <td>ENQ - 00001079</td>\n",
       "      <td>919825109070</td>\n",
       "    </tr>\n",
       "    <tr>\n",
       "      <th>1</th>\n",
       "      <td>23/9/2020</td>\n",
       "      <td>Closed/ Lost</td>\n",
       "      <td>Facebook</td>\n",
       "      <td>Facebook</td>\n",
       "      <td>12/3/2021</td>\n",
       "      <td>NaN</td>\n",
       "      <td>NaN</td>\n",
       "      <td>Arvind Highgrove</td>\n",
       "      <td>Mr.  Nancy Sharma</td>\n",
       "      <td>ENQ - 00107894</td>\n",
       "      <td>917042713842</td>\n",
       "    </tr>\n",
       "    <tr>\n",
       "      <th>2</th>\n",
       "      <td>20/10/2020</td>\n",
       "      <td>Closed/ Lost</td>\n",
       "      <td>Hoarding</td>\n",
       "      <td>Hoarding</td>\n",
       "      <td>22/2/2021</td>\n",
       "      <td>NaN</td>\n",
       "      <td>NaN</td>\n",
       "      <td>Arvind Highgrove</td>\n",
       "      <td>Mr.  Daheri Lal</td>\n",
       "      <td>ENQ - 00114748</td>\n",
       "      <td>916353205443</td>\n",
       "    </tr>\n",
       "    <tr>\n",
       "      <th>3</th>\n",
       "      <td>11/2/2020</td>\n",
       "      <td>Closed/ Lost</td>\n",
       "      <td>Newspaper Ad</td>\n",
       "      <td>Newspaper Ad</td>\n",
       "      <td>22/4/2021</td>\n",
       "      <td>NaN</td>\n",
       "      <td>NaN</td>\n",
       "      <td>Arvind Highgrove</td>\n",
       "      <td>Mr. Nipan .</td>\n",
       "      <td>ENQ - 00001079</td>\n",
       "      <td>919825109070</td>\n",
       "    </tr>\n",
       "    <tr>\n",
       "      <th>4</th>\n",
       "      <td>23/9/2020</td>\n",
       "      <td>Closed/ Lost</td>\n",
       "      <td>Facebook</td>\n",
       "      <td>Facebook</td>\n",
       "      <td>12/3/2021</td>\n",
       "      <td>NaN</td>\n",
       "      <td>NaN</td>\n",
       "      <td>Arvind Highgrove</td>\n",
       "      <td>Mr.  Nancy Sharma</td>\n",
       "      <td>ENQ - 00107894</td>\n",
       "      <td>917042713842</td>\n",
       "    </tr>\n",
       "  </tbody>\n",
       "</table>\n",
       "</div>"
      ],
      "text/plain": [
       "  enq_created_date    enq_status orginal_source    enq_source  \\\n",
       "0        11/2/2020  Closed/ Lost   Newspaper Ad  Newspaper Ad   \n",
       "1        23/9/2020  Closed/ Lost       Facebook      Facebook   \n",
       "2       20/10/2020  Closed/ Lost       Hoarding      Hoarding   \n",
       "3        11/2/2020  Closed/ Lost   Newspaper Ad  Newspaper Ad   \n",
       "4        23/9/2020  Closed/ Lost       Facebook      Facebook   \n",
       "\n",
       "  enq_last_modified_date CP_Name CP_org_name           project  \\\n",
       "0              22/4/2021     NaN         NaN  Arvind Highgrove   \n",
       "1              12/3/2021     NaN         NaN  Arvind Highgrove   \n",
       "2              22/2/2021     NaN         NaN  Arvind Highgrove   \n",
       "3              22/4/2021     NaN         NaN  Arvind Highgrove   \n",
       "4              12/3/2021     NaN         NaN  Arvind Highgrove   \n",
       "\n",
       "       customer_name          enq_id        mobile  \n",
       "0        Mr. Nipan .  ENQ - 00001079  919825109070  \n",
       "1  Mr.  Nancy Sharma  ENQ - 00107894  917042713842  \n",
       "2    Mr.  Daheri Lal  ENQ - 00114748  916353205443  \n",
       "3        Mr. Nipan .  ENQ - 00001079  919825109070  \n",
       "4  Mr.  Nancy Sharma  ENQ - 00107894  917042713842  "
      ]
     },
     "execution_count": 63,
     "metadata": {},
     "output_type": "execute_result"
    }
   ],
   "source": [
    "lead_highgrove.head()"
   ]
  },
  {
   "cell_type": "code",
   "execution_count": 64,
   "metadata": {},
   "outputs": [
    {
     "data": {
      "text/plain": [
       "13"
      ]
     },
     "execution_count": 64,
     "metadata": {},
     "output_type": "execute_result"
    }
   ],
   "source": [
    "lead_highgrove['enq_status'].nunique()"
   ]
  },
  {
   "cell_type": "code",
   "execution_count": 65,
   "metadata": {},
   "outputs": [
    {
     "data": {
      "text/plain": [
       "array(['Closed/ Lost', 'Site Visit Conducted', 'Closed Won',\n",
       "       'Active - Presales', 'Working', 'Active - Sales',\n",
       "       'Active - CP Sales', 'Booked', 'Converted to Offer',\n",
       "       'Site Visit Scheduled', 'Pre Closer Stage', 'Closed by Sales',\n",
       "       'Site Visit Rescheduled', nan], dtype=object)"
      ]
     },
     "execution_count": 65,
     "metadata": {},
     "output_type": "execute_result"
    }
   ],
   "source": [
    "lead_highgrove['enq_status'].unique()"
   ]
  },
  {
   "cell_type": "code",
   "execution_count": 66,
   "metadata": {},
   "outputs": [],
   "source": [
    "filtercondition1 = lead_highgrove['enq_status'].isin(['Closed/ Lost']).values\n",
    "filtercondition2 = lead_highgrove['enq_status'].isin(['Closed by Sales']).values\n",
    "filtercondition3 = lead_highgrove['enq_status'].isin(['Closed Won']).values\n",
    "\n",
    "lead_highgrove_status = lead_highgrove[filtercondition1 | filtercondition2 | filtercondition3]"
   ]
  },
  {
   "cell_type": "code",
   "execution_count": 67,
   "metadata": {},
   "outputs": [
    {
     "data": {
      "text/html": [
       "<div>\n",
       "<style scoped>\n",
       "    .dataframe tbody tr th:only-of-type {\n",
       "        vertical-align: middle;\n",
       "    }\n",
       "\n",
       "    .dataframe tbody tr th {\n",
       "        vertical-align: top;\n",
       "    }\n",
       "\n",
       "    .dataframe thead th {\n",
       "        text-align: right;\n",
       "    }\n",
       "</style>\n",
       "<table border=\"1\" class=\"dataframe\">\n",
       "  <thead>\n",
       "    <tr style=\"text-align: right;\">\n",
       "      <th></th>\n",
       "      <th>enq_created_date</th>\n",
       "      <th>enq_status</th>\n",
       "      <th>orginal_source</th>\n",
       "      <th>enq_source</th>\n",
       "      <th>enq_last_modified_date</th>\n",
       "      <th>CP_Name</th>\n",
       "      <th>CP_org_name</th>\n",
       "      <th>project</th>\n",
       "      <th>customer_name</th>\n",
       "      <th>enq_id</th>\n",
       "      <th>mobile</th>\n",
       "    </tr>\n",
       "  </thead>\n",
       "  <tbody>\n",
       "    <tr>\n",
       "      <th>0</th>\n",
       "      <td>11/2/2020</td>\n",
       "      <td>Closed/ Lost</td>\n",
       "      <td>Newspaper Ad</td>\n",
       "      <td>Newspaper Ad</td>\n",
       "      <td>22/4/2021</td>\n",
       "      <td>NaN</td>\n",
       "      <td>NaN</td>\n",
       "      <td>Arvind Highgrove</td>\n",
       "      <td>Mr. Nipan .</td>\n",
       "      <td>ENQ - 00001079</td>\n",
       "      <td>919825109070</td>\n",
       "    </tr>\n",
       "    <tr>\n",
       "      <th>1</th>\n",
       "      <td>23/9/2020</td>\n",
       "      <td>Closed/ Lost</td>\n",
       "      <td>Facebook</td>\n",
       "      <td>Facebook</td>\n",
       "      <td>12/3/2021</td>\n",
       "      <td>NaN</td>\n",
       "      <td>NaN</td>\n",
       "      <td>Arvind Highgrove</td>\n",
       "      <td>Mr.  Nancy Sharma</td>\n",
       "      <td>ENQ - 00107894</td>\n",
       "      <td>917042713842</td>\n",
       "    </tr>\n",
       "    <tr>\n",
       "      <th>2</th>\n",
       "      <td>20/10/2020</td>\n",
       "      <td>Closed/ Lost</td>\n",
       "      <td>Hoarding</td>\n",
       "      <td>Hoarding</td>\n",
       "      <td>22/2/2021</td>\n",
       "      <td>NaN</td>\n",
       "      <td>NaN</td>\n",
       "      <td>Arvind Highgrove</td>\n",
       "      <td>Mr.  Daheri Lal</td>\n",
       "      <td>ENQ - 00114748</td>\n",
       "      <td>916353205443</td>\n",
       "    </tr>\n",
       "    <tr>\n",
       "      <th>3</th>\n",
       "      <td>11/2/2020</td>\n",
       "      <td>Closed/ Lost</td>\n",
       "      <td>Newspaper Ad</td>\n",
       "      <td>Newspaper Ad</td>\n",
       "      <td>22/4/2021</td>\n",
       "      <td>NaN</td>\n",
       "      <td>NaN</td>\n",
       "      <td>Arvind Highgrove</td>\n",
       "      <td>Mr. Nipan .</td>\n",
       "      <td>ENQ - 00001079</td>\n",
       "      <td>919825109070</td>\n",
       "    </tr>\n",
       "    <tr>\n",
       "      <th>4</th>\n",
       "      <td>23/9/2020</td>\n",
       "      <td>Closed/ Lost</td>\n",
       "      <td>Facebook</td>\n",
       "      <td>Facebook</td>\n",
       "      <td>12/3/2021</td>\n",
       "      <td>NaN</td>\n",
       "      <td>NaN</td>\n",
       "      <td>Arvind Highgrove</td>\n",
       "      <td>Mr.  Nancy Sharma</td>\n",
       "      <td>ENQ - 00107894</td>\n",
       "      <td>917042713842</td>\n",
       "    </tr>\n",
       "  </tbody>\n",
       "</table>\n",
       "</div>"
      ],
      "text/plain": [
       "  enq_created_date    enq_status orginal_source    enq_source  \\\n",
       "0        11/2/2020  Closed/ Lost   Newspaper Ad  Newspaper Ad   \n",
       "1        23/9/2020  Closed/ Lost       Facebook      Facebook   \n",
       "2       20/10/2020  Closed/ Lost       Hoarding      Hoarding   \n",
       "3        11/2/2020  Closed/ Lost   Newspaper Ad  Newspaper Ad   \n",
       "4        23/9/2020  Closed/ Lost       Facebook      Facebook   \n",
       "\n",
       "  enq_last_modified_date CP_Name CP_org_name           project  \\\n",
       "0              22/4/2021     NaN         NaN  Arvind Highgrove   \n",
       "1              12/3/2021     NaN         NaN  Arvind Highgrove   \n",
       "2              22/2/2021     NaN         NaN  Arvind Highgrove   \n",
       "3              22/4/2021     NaN         NaN  Arvind Highgrove   \n",
       "4              12/3/2021     NaN         NaN  Arvind Highgrove   \n",
       "\n",
       "       customer_name          enq_id        mobile  \n",
       "0        Mr. Nipan .  ENQ - 00001079  919825109070  \n",
       "1  Mr.  Nancy Sharma  ENQ - 00107894  917042713842  \n",
       "2    Mr.  Daheri Lal  ENQ - 00114748  916353205443  \n",
       "3        Mr. Nipan .  ENQ - 00001079  919825109070  \n",
       "4  Mr.  Nancy Sharma  ENQ - 00107894  917042713842  "
      ]
     },
     "execution_count": 67,
     "metadata": {},
     "output_type": "execute_result"
    }
   ],
   "source": [
    "lead_highgrove_status.head()"
   ]
  },
  {
   "cell_type": "code",
   "execution_count": 68,
   "metadata": {},
   "outputs": [
    {
     "data": {
      "text/plain": [
       "array(['Closed/ Lost', 'Closed Won', 'Closed by Sales'], dtype=object)"
      ]
     },
     "execution_count": 68,
     "metadata": {},
     "output_type": "execute_result"
    }
   ],
   "source": [
    "lead_highgrove_status['enq_status'].unique()"
   ]
  },
  {
   "cell_type": "code",
   "execution_count": 69,
   "metadata": {},
   "outputs": [
    {
     "name": "stderr",
     "output_type": "stream",
     "text": [
      "C:\\Users\\118183\\Anaconda3\\lib\\site-packages\\pandas\\core\\generic.py:6746: SettingWithCopyWarning: \n",
      "A value is trying to be set on a copy of a slice from a DataFrame\n",
      "\n",
      "See the caveats in the documentation: https://pandas.pydata.org/pandas-docs/stable/user_guide/indexing.html#returning-a-view-versus-a-copy\n",
      "  self._update_inplace(new_data)\n"
     ]
    }
   ],
   "source": [
    "lead_highgrove_status['enq_status'].replace({'Closed/ Lost':0,'Closed by Sales':0, 'Closed Won':1}, inplace=True)"
   ]
  },
  {
   "cell_type": "code",
   "execution_count": 70,
   "metadata": {},
   "outputs": [
    {
     "name": "stdout",
     "output_type": "stream",
     "text": [
      "(42134, 11)\n",
      "(42134, 11)\n"
     ]
    }
   ],
   "source": [
    "print(lead_highgrove_status.shape)\n",
    "\n",
    "lead_highgrove_status.drop_duplicates()\n",
    "\n",
    "print(lead_highgrove_status.shape)"
   ]
  },
  {
   "cell_type": "code",
   "execution_count": 71,
   "metadata": {},
   "outputs": [
    {
     "name": "stdout",
     "output_type": "stream",
     "text": [
      "<class 'pandas.core.frame.DataFrame'>\n",
      "Int64Index: 42134 entries, 0 to 49014\n",
      "Data columns (total 11 columns):\n",
      " #   Column                  Non-Null Count  Dtype \n",
      "---  ------                  --------------  ----- \n",
      " 0   enq_created_date        42134 non-null  object\n",
      " 1   enq_status              42134 non-null  int64 \n",
      " 2   orginal_source          41426 non-null  object\n",
      " 3   enq_source              41709 non-null  object\n",
      " 4   enq_last_modified_date  42134 non-null  object\n",
      " 5   CP_Name                 1366 non-null   object\n",
      " 6   CP_org_name             1375 non-null   object\n",
      " 7   project                 42134 non-null  object\n",
      " 8   customer_name           42134 non-null  object\n",
      " 9   enq_id                  42134 non-null  object\n",
      " 10  mobile                  42133 non-null  object\n",
      "dtypes: int64(1), object(10)\n",
      "memory usage: 3.9+ MB\n"
     ]
    }
   ],
   "source": [
    "lead_highgrove_status.info()"
   ]
  },
  {
   "cell_type": "code",
   "execution_count": 72,
   "metadata": {},
   "outputs": [
    {
     "data": {
      "text/html": [
       "<div>\n",
       "<style scoped>\n",
       "    .dataframe tbody tr th:only-of-type {\n",
       "        vertical-align: middle;\n",
       "    }\n",
       "\n",
       "    .dataframe tbody tr th {\n",
       "        vertical-align: top;\n",
       "    }\n",
       "\n",
       "    .dataframe thead th {\n",
       "        text-align: right;\n",
       "    }\n",
       "</style>\n",
       "<table border=\"1\" class=\"dataframe\">\n",
       "  <thead>\n",
       "    <tr style=\"text-align: right;\">\n",
       "      <th></th>\n",
       "      <th>enq_created_date</th>\n",
       "      <th>enq_status</th>\n",
       "      <th>orginal_source</th>\n",
       "      <th>enq_source</th>\n",
       "      <th>enq_last_modified_date</th>\n",
       "      <th>CP_Name</th>\n",
       "      <th>CP_org_name</th>\n",
       "      <th>project</th>\n",
       "      <th>customer_name</th>\n",
       "      <th>enq_id</th>\n",
       "      <th>mobile</th>\n",
       "    </tr>\n",
       "  </thead>\n",
       "  <tbody>\n",
       "    <tr>\n",
       "      <th>count</th>\n",
       "      <td>42134</td>\n",
       "      <td>42134.000000</td>\n",
       "      <td>41426</td>\n",
       "      <td>41709</td>\n",
       "      <td>42134</td>\n",
       "      <td>1366</td>\n",
       "      <td>1375</td>\n",
       "      <td>42134</td>\n",
       "      <td>42134</td>\n",
       "      <td>42134</td>\n",
       "      <td>42133</td>\n",
       "    </tr>\n",
       "    <tr>\n",
       "      <th>unique</th>\n",
       "      <td>294</td>\n",
       "      <td>NaN</td>\n",
       "      <td>26</td>\n",
       "      <td>20</td>\n",
       "      <td>292</td>\n",
       "      <td>79</td>\n",
       "      <td>66</td>\n",
       "      <td>1</td>\n",
       "      <td>8603</td>\n",
       "      <td>10206</td>\n",
       "      <td>9104</td>\n",
       "    </tr>\n",
       "    <tr>\n",
       "      <th>top</th>\n",
       "      <td>19/9/2020</td>\n",
       "      <td>NaN</td>\n",
       "      <td>Facebook</td>\n",
       "      <td>Facebook</td>\n",
       "      <td>5/6/2021</td>\n",
       "      <td>Ronak Ginoya</td>\n",
       "      <td>Resolute Property Solutions Partnership Firm</td>\n",
       "      <td>Arvind Highgrove</td>\n",
       "      <td>Mr. Monal/Nilesh Shah</td>\n",
       "      <td>ENQ - 00105829</td>\n",
       "      <td>914461198313</td>\n",
       "    </tr>\n",
       "    <tr>\n",
       "      <th>freq</th>\n",
       "      <td>1598</td>\n",
       "      <td>NaN</td>\n",
       "      <td>23144</td>\n",
       "      <td>23270</td>\n",
       "      <td>1924</td>\n",
       "      <td>208</td>\n",
       "      <td>259</td>\n",
       "      <td>42134</td>\n",
       "      <td>135</td>\n",
       "      <td>135</td>\n",
       "      <td>135</td>\n",
       "    </tr>\n",
       "    <tr>\n",
       "      <th>mean</th>\n",
       "      <td>NaN</td>\n",
       "      <td>0.021740</td>\n",
       "      <td>NaN</td>\n",
       "      <td>NaN</td>\n",
       "      <td>NaN</td>\n",
       "      <td>NaN</td>\n",
       "      <td>NaN</td>\n",
       "      <td>NaN</td>\n",
       "      <td>NaN</td>\n",
       "      <td>NaN</td>\n",
       "      <td>NaN</td>\n",
       "    </tr>\n",
       "    <tr>\n",
       "      <th>std</th>\n",
       "      <td>NaN</td>\n",
       "      <td>0.145836</td>\n",
       "      <td>NaN</td>\n",
       "      <td>NaN</td>\n",
       "      <td>NaN</td>\n",
       "      <td>NaN</td>\n",
       "      <td>NaN</td>\n",
       "      <td>NaN</td>\n",
       "      <td>NaN</td>\n",
       "      <td>NaN</td>\n",
       "      <td>NaN</td>\n",
       "    </tr>\n",
       "    <tr>\n",
       "      <th>min</th>\n",
       "      <td>NaN</td>\n",
       "      <td>0.000000</td>\n",
       "      <td>NaN</td>\n",
       "      <td>NaN</td>\n",
       "      <td>NaN</td>\n",
       "      <td>NaN</td>\n",
       "      <td>NaN</td>\n",
       "      <td>NaN</td>\n",
       "      <td>NaN</td>\n",
       "      <td>NaN</td>\n",
       "      <td>NaN</td>\n",
       "    </tr>\n",
       "    <tr>\n",
       "      <th>25%</th>\n",
       "      <td>NaN</td>\n",
       "      <td>0.000000</td>\n",
       "      <td>NaN</td>\n",
       "      <td>NaN</td>\n",
       "      <td>NaN</td>\n",
       "      <td>NaN</td>\n",
       "      <td>NaN</td>\n",
       "      <td>NaN</td>\n",
       "      <td>NaN</td>\n",
       "      <td>NaN</td>\n",
       "      <td>NaN</td>\n",
       "    </tr>\n",
       "    <tr>\n",
       "      <th>50%</th>\n",
       "      <td>NaN</td>\n",
       "      <td>0.000000</td>\n",
       "      <td>NaN</td>\n",
       "      <td>NaN</td>\n",
       "      <td>NaN</td>\n",
       "      <td>NaN</td>\n",
       "      <td>NaN</td>\n",
       "      <td>NaN</td>\n",
       "      <td>NaN</td>\n",
       "      <td>NaN</td>\n",
       "      <td>NaN</td>\n",
       "    </tr>\n",
       "    <tr>\n",
       "      <th>75%</th>\n",
       "      <td>NaN</td>\n",
       "      <td>0.000000</td>\n",
       "      <td>NaN</td>\n",
       "      <td>NaN</td>\n",
       "      <td>NaN</td>\n",
       "      <td>NaN</td>\n",
       "      <td>NaN</td>\n",
       "      <td>NaN</td>\n",
       "      <td>NaN</td>\n",
       "      <td>NaN</td>\n",
       "      <td>NaN</td>\n",
       "    </tr>\n",
       "    <tr>\n",
       "      <th>max</th>\n",
       "      <td>NaN</td>\n",
       "      <td>1.000000</td>\n",
       "      <td>NaN</td>\n",
       "      <td>NaN</td>\n",
       "      <td>NaN</td>\n",
       "      <td>NaN</td>\n",
       "      <td>NaN</td>\n",
       "      <td>NaN</td>\n",
       "      <td>NaN</td>\n",
       "      <td>NaN</td>\n",
       "      <td>NaN</td>\n",
       "    </tr>\n",
       "  </tbody>\n",
       "</table>\n",
       "</div>"
      ],
      "text/plain": [
       "       enq_created_date    enq_status orginal_source enq_source  \\\n",
       "count             42134  42134.000000          41426      41709   \n",
       "unique              294           NaN             26         20   \n",
       "top           19/9/2020           NaN       Facebook   Facebook   \n",
       "freq               1598           NaN          23144      23270   \n",
       "mean                NaN      0.021740            NaN        NaN   \n",
       "std                 NaN      0.145836            NaN        NaN   \n",
       "min                 NaN      0.000000            NaN        NaN   \n",
       "25%                 NaN      0.000000            NaN        NaN   \n",
       "50%                 NaN      0.000000            NaN        NaN   \n",
       "75%                 NaN      0.000000            NaN        NaN   \n",
       "max                 NaN      1.000000            NaN        NaN   \n",
       "\n",
       "       enq_last_modified_date       CP_Name  \\\n",
       "count                   42134          1366   \n",
       "unique                    292            79   \n",
       "top                  5/6/2021  Ronak Ginoya   \n",
       "freq                     1924           208   \n",
       "mean                      NaN           NaN   \n",
       "std                       NaN           NaN   \n",
       "min                       NaN           NaN   \n",
       "25%                       NaN           NaN   \n",
       "50%                       NaN           NaN   \n",
       "75%                       NaN           NaN   \n",
       "max                       NaN           NaN   \n",
       "\n",
       "                                         CP_org_name           project  \\\n",
       "count                                           1375             42134   \n",
       "unique                                            66                 1   \n",
       "top     Resolute Property Solutions Partnership Firm  Arvind Highgrove   \n",
       "freq                                             259             42134   \n",
       "mean                                             NaN               NaN   \n",
       "std                                              NaN               NaN   \n",
       "min                                              NaN               NaN   \n",
       "25%                                              NaN               NaN   \n",
       "50%                                              NaN               NaN   \n",
       "75%                                              NaN               NaN   \n",
       "max                                              NaN               NaN   \n",
       "\n",
       "                customer_name          enq_id        mobile  \n",
       "count                   42134           42134         42133  \n",
       "unique                   8603           10206          9104  \n",
       "top     Mr. Monal/Nilesh Shah  ENQ - 00105829  914461198313  \n",
       "freq                      135             135           135  \n",
       "mean                      NaN             NaN           NaN  \n",
       "std                       NaN             NaN           NaN  \n",
       "min                       NaN             NaN           NaN  \n",
       "25%                       NaN             NaN           NaN  \n",
       "50%                       NaN             NaN           NaN  \n",
       "75%                       NaN             NaN           NaN  \n",
       "max                       NaN             NaN           NaN  "
      ]
     },
     "execution_count": 72,
     "metadata": {},
     "output_type": "execute_result"
    }
   ],
   "source": [
    "lead_highgrove_status.describe(include='all')"
   ]
  },
  {
   "cell_type": "code",
   "execution_count": 73,
   "metadata": {},
   "outputs": [
    {
     "data": {
      "text/plain": [
       "<matplotlib.axes._subplots.AxesSubplot at 0x241f0bfd460>"
      ]
     },
     "execution_count": 73,
     "metadata": {},
     "output_type": "execute_result"
    },
    {
     "data": {
      "image/png": "[encoded data removed]",
      "text/plain": [
       "<Figure size 432x288 with 1 Axes>"
      ]
     },
     "metadata": {
      "needs_background": "light"
     },
     "output_type": "display_data"
    }
   ],
   "source": [
    "%matplotlib inline\n",
    "\n",
    "lead_highgrove_status.groupby(['enq_status']).size().plot(kind='bar')"
   ]
  },
  {
   "cell_type": "code",
   "execution_count": 74,
   "metadata": {},
   "outputs": [],
   "source": [
    "lead_highgrove_status.to_excel(\"C:\\\\Users\\\\118183\\\\Documents\\\\2019\\\\Model\\\\Lead_Conversion\\\\lead_highgrove1.xlsx\", index=False)"
   ]
  },
  {
   "cell_type": "code",
   "execution_count": 42,
   "metadata": {},
   "outputs": [
    {
     "data": {
      "text/html": [
       "<div>\n",
       "<style scoped>\n",
       "    .dataframe tbody tr th:only-of-type {\n",
       "        vertical-align: middle;\n",
       "    }\n",
       "\n",
       "    .dataframe tbody tr th {\n",
       "        vertical-align: top;\n",
       "    }\n",
       "\n",
       "    .dataframe thead th {\n",
       "        text-align: right;\n",
       "    }\n",
       "</style>\n",
       "<table border=\"1\" class=\"dataframe\">\n",
       "  <thead>\n",
       "    <tr style=\"text-align: right;\">\n",
       "      <th>enq_status</th>\n",
       "      <th>0</th>\n",
       "      <th>1</th>\n",
       "    </tr>\n",
       "    <tr>\n",
       "      <th>orginal_source</th>\n",
       "      <th></th>\n",
       "      <th></th>\n",
       "    </tr>\n",
       "  </thead>\n",
       "  <tbody>\n",
       "    <tr>\n",
       "      <th>Amratbhai</th>\n",
       "      <td>1</td>\n",
       "      <td>0</td>\n",
       "    </tr>\n",
       "    <tr>\n",
       "      <th>Bulk SMS</th>\n",
       "      <td>269</td>\n",
       "      <td>16</td>\n",
       "    </tr>\n",
       "    <tr>\n",
       "      <th>Channel Partner</th>\n",
       "      <td>2</td>\n",
       "      <td>6</td>\n",
       "    </tr>\n",
       "    <tr>\n",
       "      <th>Cross Project</th>\n",
       "      <td>214</td>\n",
       "      <td>0</td>\n",
       "    </tr>\n",
       "    <tr>\n",
       "      <th>Customer Referral</th>\n",
       "      <td>64</td>\n",
       "      <td>26</td>\n",
       "    </tr>\n",
       "    <tr>\n",
       "      <th>Database calling</th>\n",
       "      <td>1661</td>\n",
       "      <td>1</td>\n",
       "    </tr>\n",
       "    <tr>\n",
       "      <th>Direct Walk-in</th>\n",
       "      <td>519</td>\n",
       "      <td>69</td>\n",
       "    </tr>\n",
       "    <tr>\n",
       "      <th>Emailers</th>\n",
       "      <td>327</td>\n",
       "      <td>0</td>\n",
       "    </tr>\n",
       "    <tr>\n",
       "      <th>Employee Referral</th>\n",
       "      <td>142</td>\n",
       "      <td>44</td>\n",
       "    </tr>\n",
       "    <tr>\n",
       "      <th>Facebook</th>\n",
       "      <td>22983</td>\n",
       "      <td>161</td>\n",
       "    </tr>\n",
       "    <tr>\n",
       "      <th>Google Adwords</th>\n",
       "      <td>2436</td>\n",
       "      <td>20</td>\n",
       "    </tr>\n",
       "    <tr>\n",
       "      <th>Hoarding</th>\n",
       "      <td>1635</td>\n",
       "      <td>46</td>\n",
       "    </tr>\n",
       "    <tr>\n",
       "      <th>Loyalty</th>\n",
       "      <td>384</td>\n",
       "      <td>12</td>\n",
       "    </tr>\n",
       "    <tr>\n",
       "      <th>Multiplex/Theatre Promotion</th>\n",
       "      <td>2</td>\n",
       "      <td>0</td>\n",
       "    </tr>\n",
       "    <tr>\n",
       "      <th>Newspaper Ad</th>\n",
       "      <td>936</td>\n",
       "      <td>14</td>\n",
       "    </tr>\n",
       "    <tr>\n",
       "      <th>Newspaper Insert</th>\n",
       "      <td>7</td>\n",
       "      <td>0</td>\n",
       "    </tr>\n",
       "    <tr>\n",
       "      <th>Online Ads</th>\n",
       "      <td>197</td>\n",
       "      <td>0</td>\n",
       "    </tr>\n",
       "    <tr>\n",
       "      <th>Property Consultant</th>\n",
       "      <td>1074</td>\n",
       "      <td>251</td>\n",
       "    </tr>\n",
       "    <tr>\n",
       "      <th>Property Portal</th>\n",
       "      <td>66</td>\n",
       "      <td>14</td>\n",
       "    </tr>\n",
       "    <tr>\n",
       "      <th>Reference</th>\n",
       "      <td>1</td>\n",
       "      <td>0</td>\n",
       "    </tr>\n",
       "    <tr>\n",
       "      <th>SMS</th>\n",
       "      <td>1230</td>\n",
       "      <td>18</td>\n",
       "    </tr>\n",
       "    <tr>\n",
       "      <th>Site Branding</th>\n",
       "      <td>541</td>\n",
       "      <td>0</td>\n",
       "    </tr>\n",
       "    <tr>\n",
       "      <th>Viren Bhai</th>\n",
       "      <td>3</td>\n",
       "      <td>0</td>\n",
       "    </tr>\n",
       "    <tr>\n",
       "      <th>Vision Espace Mr Mainik Punchal</th>\n",
       "      <td>2</td>\n",
       "      <td>0</td>\n",
       "    </tr>\n",
       "    <tr>\n",
       "      <th>Website</th>\n",
       "      <td>5446</td>\n",
       "      <td>136</td>\n",
       "    </tr>\n",
       "    <tr>\n",
       "      <th>Word of Mouth</th>\n",
       "      <td>395</td>\n",
       "      <td>55</td>\n",
       "    </tr>\n",
       "  </tbody>\n",
       "</table>\n",
       "</div>"
      ],
      "text/plain": [
       "enq_status                           0    1\n",
       "orginal_source                             \n",
       "Amratbhai                            1    0\n",
       "Bulk SMS                           269   16\n",
       "Channel Partner                      2    6\n",
       "Cross Project                      214    0\n",
       "Customer Referral                   64   26\n",
       "Database calling                  1661    1\n",
       "Direct Walk-in                     519   69\n",
       "Emailers                           327    0\n",
       "Employee Referral                  142   44\n",
       "Facebook                         22983  161\n",
       "Google Adwords                    2436   20\n",
       "Hoarding                          1635   46\n",
       "Loyalty                            384   12\n",
       "Multiplex/Theatre Promotion          2    0\n",
       "Newspaper Ad                       936   14\n",
       "Newspaper Insert                     7    0\n",
       "Online Ads                         197    0\n",
       "Property Consultant               1074  251\n",
       "Property Portal                     66   14\n",
       "Reference                            1    0\n",
       "SMS                               1230   18\n",
       "Site Branding                      541    0\n",
       "Viren Bhai                           3    0\n",
       "Vision Espace Mr Mainik Punchal      2    0\n",
       "Website                           5446  136\n",
       "Word of Mouth                      395   55"
      ]
     },
     "execution_count": 42,
     "metadata": {},
     "output_type": "execute_result"
    }
   ],
   "source": [
    "crosstabresult=pd.crosstab(index=lead_highgrove_status['orginal_source'], columns=lead_highgrove_status['enq_status'])\n",
    "crosstabresult"
   ]
  },
  {
   "cell_type": "code",
   "execution_count": 50,
   "metadata": {},
   "outputs": [],
   "source": [
    "filtercondition1 = lead_highgrove_status['orginal_source'].isin(['Bulk SMS']).values\n",
    "filtercondition2 = lead_highgrove_status['orginal_source'].isin(['Channel Partner']).values\n",
    "filtercondition3 = lead_highgrove_status['orginal_source'].isin(['Customer Referral\t']).values\n",
    "filtercondition4 = lead_highgrove_status['orginal_source'].isin(['Direct Walk-in']).values\n",
    "filtercondition5 = lead_highgrove_status['orginal_source'].isin(['Employee Referral']).values\n",
    "filtercondition6 = lead_highgrove_status['orginal_source'].isin(['Facebook']).values\n",
    "filtercondition7 = lead_highgrove_status['orginal_source'].isin(['Google Adwords']).values\n",
    "filtercondition8 = lead_highgrove_status['orginal_source'].isin(['Hoarding']).values\n",
    "filtercondition9 = lead_highgrove_status['orginal_source'].isin(['Loyalty']).values\n",
    "filtercondition10 = lead_highgrove_status['orginal_source'].isin(['Newspaper Ad']).values\n",
    "filtercondition11 = lead_highgrove_status['orginal_source'].isin(['Property Consultant']).values\n",
    "filtercondition12 = lead_highgrove_status['orginal_source'].isin(['Property Portal']).values\n",
    "filtercondition13 = lead_highgrove_status['orginal_source'].isin(['SMS']).values\n",
    "filtercondition14 = lead_highgrove_status['orginal_source'].isin(['Website']).values\n",
    "filtercondition15 = lead_highgrove_status['orginal_source'].isin(['Word of Mouth']).values"
   ]
  },
  {
   "cell_type": "code",
   "execution_count": 51,
   "metadata": {},
   "outputs": [],
   "source": [
    "lead_highgrove_status_1 = lead_highgrove_status[filtercondition1 | filtercondition10 | filtercondition2 | filtercondition3 | filtercondition4 | filtercondition5 | filtercondition6 | filtercondition7 | filtercondition8 | filtercondition9 | filtercondition11 | filtercondition12 | filtercondition13 | filtercondition14 | filtercondition15]"
   ]
  },
  {
   "cell_type": "code",
   "execution_count": 52,
   "metadata": {},
   "outputs": [
    {
     "data": {
      "text/html": [
       "<div>\n",
       "<style scoped>\n",
       "    .dataframe tbody tr th:only-of-type {\n",
       "        vertical-align: middle;\n",
       "    }\n",
       "\n",
       "    .dataframe tbody tr th {\n",
       "        vertical-align: top;\n",
       "    }\n",
       "\n",
       "    .dataframe thead th {\n",
       "        text-align: right;\n",
       "    }\n",
       "</style>\n",
       "<table border=\"1\" class=\"dataframe\">\n",
       "  <thead>\n",
       "    <tr style=\"text-align: right;\">\n",
       "      <th></th>\n",
       "      <th>enq_created_date</th>\n",
       "      <th>enq_status</th>\n",
       "      <th>orginal_source</th>\n",
       "      <th>enq_source</th>\n",
       "      <th>enq_last_modified_date</th>\n",
       "      <th>CP_Name</th>\n",
       "      <th>CP_org_name</th>\n",
       "      <th>project</th>\n",
       "      <th>customer_name</th>\n",
       "      <th>enq_id</th>\n",
       "      <th>mobile</th>\n",
       "    </tr>\n",
       "  </thead>\n",
       "  <tbody>\n",
       "    <tr>\n",
       "      <th>0</th>\n",
       "      <td>11/2/2020</td>\n",
       "      <td>0</td>\n",
       "      <td>Newspaper Ad</td>\n",
       "      <td>Newspaper Ad</td>\n",
       "      <td>22/4/2021</td>\n",
       "      <td>NaN</td>\n",
       "      <td>NaN</td>\n",
       "      <td>Arvind Highgrove</td>\n",
       "      <td>Mr. Nipan .</td>\n",
       "      <td>ENQ - 00001079</td>\n",
       "      <td>919825109070</td>\n",
       "    </tr>\n",
       "    <tr>\n",
       "      <th>1</th>\n",
       "      <td>23/9/2020</td>\n",
       "      <td>0</td>\n",
       "      <td>Facebook</td>\n",
       "      <td>Facebook</td>\n",
       "      <td>12/3/2021</td>\n",
       "      <td>NaN</td>\n",
       "      <td>NaN</td>\n",
       "      <td>Arvind Highgrove</td>\n",
       "      <td>Mr.  Nancy Sharma</td>\n",
       "      <td>ENQ - 00107894</td>\n",
       "      <td>917042713842</td>\n",
       "    </tr>\n",
       "    <tr>\n",
       "      <th>2</th>\n",
       "      <td>20/10/2020</td>\n",
       "      <td>0</td>\n",
       "      <td>Hoarding</td>\n",
       "      <td>Hoarding</td>\n",
       "      <td>22/2/2021</td>\n",
       "      <td>NaN</td>\n",
       "      <td>NaN</td>\n",
       "      <td>Arvind Highgrove</td>\n",
       "      <td>Mr.  Daheri Lal</td>\n",
       "      <td>ENQ - 00114748</td>\n",
       "      <td>916353205443</td>\n",
       "    </tr>\n",
       "    <tr>\n",
       "      <th>3</th>\n",
       "      <td>11/2/2020</td>\n",
       "      <td>0</td>\n",
       "      <td>Newspaper Ad</td>\n",
       "      <td>Newspaper Ad</td>\n",
       "      <td>22/4/2021</td>\n",
       "      <td>NaN</td>\n",
       "      <td>NaN</td>\n",
       "      <td>Arvind Highgrove</td>\n",
       "      <td>Mr. Nipan .</td>\n",
       "      <td>ENQ - 00001079</td>\n",
       "      <td>919825109070</td>\n",
       "    </tr>\n",
       "    <tr>\n",
       "      <th>4</th>\n",
       "      <td>23/9/2020</td>\n",
       "      <td>0</td>\n",
       "      <td>Facebook</td>\n",
       "      <td>Facebook</td>\n",
       "      <td>12/3/2021</td>\n",
       "      <td>NaN</td>\n",
       "      <td>NaN</td>\n",
       "      <td>Arvind Highgrove</td>\n",
       "      <td>Mr.  Nancy Sharma</td>\n",
       "      <td>ENQ - 00107894</td>\n",
       "      <td>917042713842</td>\n",
       "    </tr>\n",
       "  </tbody>\n",
       "</table>\n",
       "</div>"
      ],
      "text/plain": [
       "  enq_created_date  enq_status orginal_source    enq_source  \\\n",
       "0        11/2/2020           0   Newspaper Ad  Newspaper Ad   \n",
       "1        23/9/2020           0       Facebook      Facebook   \n",
       "2       20/10/2020           0       Hoarding      Hoarding   \n",
       "3        11/2/2020           0   Newspaper Ad  Newspaper Ad   \n",
       "4        23/9/2020           0       Facebook      Facebook   \n",
       "\n",
       "  enq_last_modified_date CP_Name CP_org_name           project  \\\n",
       "0              22/4/2021     NaN         NaN  Arvind Highgrove   \n",
       "1              12/3/2021     NaN         NaN  Arvind Highgrove   \n",
       "2              22/2/2021     NaN         NaN  Arvind Highgrove   \n",
       "3              22/4/2021     NaN         NaN  Arvind Highgrove   \n",
       "4              12/3/2021     NaN         NaN  Arvind Highgrove   \n",
       "\n",
       "       customer_name          enq_id        mobile  \n",
       "0        Mr. Nipan .  ENQ - 00001079  919825109070  \n",
       "1  Mr.  Nancy Sharma  ENQ - 00107894  917042713842  \n",
       "2    Mr.  Daheri Lal  ENQ - 00114748  916353205443  \n",
       "3        Mr. Nipan .  ENQ - 00001079  919825109070  \n",
       "4  Mr.  Nancy Sharma  ENQ - 00107894  917042713842  "
      ]
     },
     "execution_count": 52,
     "metadata": {},
     "output_type": "execute_result"
    }
   ],
   "source": [
    "lead_highgrove_status_1.head()"
   ]
  },
  {
   "cell_type": "code",
   "execution_count": 53,
   "metadata": {},
   "outputs": [
    {
     "data": {
      "text/plain": [
       "(38379, 11)"
      ]
     },
     "execution_count": 53,
     "metadata": {},
     "output_type": "execute_result"
    }
   ],
   "source": [
    "lead_highgrove_status_1.shape"
   ]
  },
  {
   "cell_type": "code",
   "execution_count": 55,
   "metadata": {},
   "outputs": [
    {
     "data": {
      "text/plain": [
       "<matplotlib.axes._subplots.AxesSubplot at 0x241ef5bac70>"
      ]
     },
     "execution_count": 55,
     "metadata": {},
     "output_type": "execute_result"
    },
    {
     "data": {
      "image/png": "[encoded data removed]",
      "text/plain": [
       "<Figure size 432x288 with 1 Axes>"
      ]
     },
     "metadata": {
      "needs_background": "light"
     },
     "output_type": "display_data"
    }
   ],
   "source": [
    "%matplotlib inline\n",
    "\n",
    "lead_highgrove_status_1.groupby(['enq_status']).size().plot(kind='bar')"
   ]
  },
  {
   "cell_type": "code",
   "execution_count": 56,
   "metadata": {},
   "outputs": [
    {
     "data": {
      "text/html": [
       "<div>\n",
       "<style scoped>\n",
       "    .dataframe tbody tr th:only-of-type {\n",
       "        vertical-align: middle;\n",
       "    }\n",
       "\n",
       "    .dataframe tbody tr th {\n",
       "        vertical-align: top;\n",
       "    }\n",
       "\n",
       "    .dataframe thead th {\n",
       "        text-align: right;\n",
       "    }\n",
       "</style>\n",
       "<table border=\"1\" class=\"dataframe\">\n",
       "  <thead>\n",
       "    <tr style=\"text-align: right;\">\n",
       "      <th>enq_status</th>\n",
       "      <th>0</th>\n",
       "      <th>1</th>\n",
       "    </tr>\n",
       "    <tr>\n",
       "      <th>orginal_source</th>\n",
       "      <th></th>\n",
       "      <th></th>\n",
       "    </tr>\n",
       "  </thead>\n",
       "  <tbody>\n",
       "    <tr>\n",
       "      <th>Bulk SMS</th>\n",
       "      <td>269</td>\n",
       "      <td>16</td>\n",
       "    </tr>\n",
       "    <tr>\n",
       "      <th>Channel Partner</th>\n",
       "      <td>2</td>\n",
       "      <td>6</td>\n",
       "    </tr>\n",
       "    <tr>\n",
       "      <th>Direct Walk-in</th>\n",
       "      <td>519</td>\n",
       "      <td>69</td>\n",
       "    </tr>\n",
       "    <tr>\n",
       "      <th>Employee Referral</th>\n",
       "      <td>142</td>\n",
       "      <td>44</td>\n",
       "    </tr>\n",
       "    <tr>\n",
       "      <th>Facebook</th>\n",
       "      <td>22983</td>\n",
       "      <td>161</td>\n",
       "    </tr>\n",
       "    <tr>\n",
       "      <th>Google Adwords</th>\n",
       "      <td>2436</td>\n",
       "      <td>20</td>\n",
       "    </tr>\n",
       "    <tr>\n",
       "      <th>Hoarding</th>\n",
       "      <td>1635</td>\n",
       "      <td>46</td>\n",
       "    </tr>\n",
       "    <tr>\n",
       "      <th>Loyalty</th>\n",
       "      <td>384</td>\n",
       "      <td>12</td>\n",
       "    </tr>\n",
       "    <tr>\n",
       "      <th>Newspaper Ad</th>\n",
       "      <td>936</td>\n",
       "      <td>14</td>\n",
       "    </tr>\n",
       "    <tr>\n",
       "      <th>Property Consultant</th>\n",
       "      <td>1074</td>\n",
       "      <td>251</td>\n",
       "    </tr>\n",
       "    <tr>\n",
       "      <th>Property Portal</th>\n",
       "      <td>66</td>\n",
       "      <td>14</td>\n",
       "    </tr>\n",
       "    <tr>\n",
       "      <th>SMS</th>\n",
       "      <td>1230</td>\n",
       "      <td>18</td>\n",
       "    </tr>\n",
       "    <tr>\n",
       "      <th>Website</th>\n",
       "      <td>5446</td>\n",
       "      <td>136</td>\n",
       "    </tr>\n",
       "    <tr>\n",
       "      <th>Word of Mouth</th>\n",
       "      <td>395</td>\n",
       "      <td>55</td>\n",
       "    </tr>\n",
       "  </tbody>\n",
       "</table>\n",
       "</div>"
      ],
      "text/plain": [
       "enq_status               0    1\n",
       "orginal_source                 \n",
       "Bulk SMS               269   16\n",
       "Channel Partner          2    6\n",
       "Direct Walk-in         519   69\n",
       "Employee Referral      142   44\n",
       "Facebook             22983  161\n",
       "Google Adwords        2436   20\n",
       "Hoarding              1635   46\n",
       "Loyalty                384   12\n",
       "Newspaper Ad           936   14\n",
       "Property Consultant   1074  251\n",
       "Property Portal         66   14\n",
       "SMS                   1230   18\n",
       "Website               5446  136\n",
       "Word of Mouth          395   55"
      ]
     },
     "execution_count": 56,
     "metadata": {},
     "output_type": "execute_result"
    }
   ],
   "source": [
    "crosstabresult = pd.crosstab(index=lead_highgrove_status_1['orginal_source'], columns=lead_highgrove_status_1['enq_status'])\n",
    "crosstabresult"
   ]
  },
  {
   "cell_type": "code",
   "execution_count": 57,
   "metadata": {},
   "outputs": [],
   "source": [
    "lead_highgrove_status_1.to_excel(\"C:\\\\Users\\\\118183\\\\Documents\\\\2019\\\\Model\\\\Lead_Conversion\\\\lead_highgrove.xlsx\", index=False)"
   ]
  },
  {
   "cell_type": "code",
   "execution_count": 83,
   "metadata": {},
   "outputs": [],
   "source": [
    "lead_highgrove_clean = pd.read_excel(\"C:\\\\Users\\\\118183\\\\Documents\\\\2019\\\\Model\\\\Lead_Conversion\\\\lead_highgrove_final.xlsx\")"
   ]
  },
  {
   "cell_type": "code",
   "execution_count": 84,
   "metadata": {},
   "outputs": [
    {
     "data": {
      "text/html": [
       "<div>\n",
       "<style scoped>\n",
       "    .dataframe tbody tr th:only-of-type {\n",
       "        vertical-align: middle;\n",
       "    }\n",
       "\n",
       "    .dataframe tbody tr th {\n",
       "        vertical-align: top;\n",
       "    }\n",
       "\n",
       "    .dataframe thead th {\n",
       "        text-align: right;\n",
       "    }\n",
       "</style>\n",
       "<table border=\"1\" class=\"dataframe\">\n",
       "  <thead>\n",
       "    <tr style=\"text-align: right;\">\n",
       "      <th></th>\n",
       "      <th>enq_created_date</th>\n",
       "      <th>enq_status</th>\n",
       "      <th>orginal_source</th>\n",
       "      <th>enq_source</th>\n",
       "      <th>enq_last_modified_date</th>\n",
       "      <th>CP_Name</th>\n",
       "      <th>CP_org_name</th>\n",
       "      <th>project</th>\n",
       "      <th>customer_name</th>\n",
       "      <th>enq_id</th>\n",
       "      <th>mobile</th>\n",
       "    </tr>\n",
       "  </thead>\n",
       "  <tbody>\n",
       "    <tr>\n",
       "      <th>0</th>\n",
       "      <td>2020-11-30</td>\n",
       "      <td>1</td>\n",
       "      <td>Property Consultant</td>\n",
       "      <td>Property Consultant</td>\n",
       "      <td>12/6/2021</td>\n",
       "      <td>Jitendra Bhagnani</td>\n",
       "      <td>UMESHKUMAR BHAGLANI</td>\n",
       "      <td>Arvind Highgrove</td>\n",
       "      <td>Mrs.  Gandhi Salooni Varun</td>\n",
       "      <td>ENQ - 00126203</td>\n",
       "      <td>00919638073331</td>\n",
       "    </tr>\n",
       "    <tr>\n",
       "      <th>1</th>\n",
       "      <td>2020-09-26</td>\n",
       "      <td>1</td>\n",
       "      <td>Property Consultant</td>\n",
       "      <td>Property Consultant</td>\n",
       "      <td>4/6/2021</td>\n",
       "      <td>Pranav Gadhiya</td>\n",
       "      <td>Pranav Gadhiya</td>\n",
       "      <td>Arvind Highgrove</td>\n",
       "      <td>Mr. LALIT TYAGI .</td>\n",
       "      <td>ENQ - 00108903</td>\n",
       "      <td>07622012101</td>\n",
       "    </tr>\n",
       "    <tr>\n",
       "      <th>2</th>\n",
       "      <td>2020-09-26</td>\n",
       "      <td>1</td>\n",
       "      <td>Property Consultant</td>\n",
       "      <td>Property Consultant</td>\n",
       "      <td>4/6/2021</td>\n",
       "      <td>Pranav Gadhiya</td>\n",
       "      <td>Pranav Gadhiya</td>\n",
       "      <td>Arvind Highgrove</td>\n",
       "      <td>Mr. LALIT TYAGI .</td>\n",
       "      <td>ENQ - 00108903</td>\n",
       "      <td>07622012101</td>\n",
       "    </tr>\n",
       "    <tr>\n",
       "      <th>3</th>\n",
       "      <td>2020-10-10</td>\n",
       "      <td>1</td>\n",
       "      <td>Property Consultant</td>\n",
       "      <td>Property Consultant</td>\n",
       "      <td>12/6/2021</td>\n",
       "      <td>Prashant Gajjar</td>\n",
       "      <td>KUNVARJI REALTY BROKERS</td>\n",
       "      <td>Arvind Highgrove</td>\n",
       "      <td>Mr.  K M Sharma</td>\n",
       "      <td>ENQ - 00112560</td>\n",
       "      <td>07929701996</td>\n",
       "    </tr>\n",
       "    <tr>\n",
       "      <th>4</th>\n",
       "      <td>2020-10-10</td>\n",
       "      <td>1</td>\n",
       "      <td>Property Consultant</td>\n",
       "      <td>Property Consultant</td>\n",
       "      <td>12/6/2021</td>\n",
       "      <td>Prashant Gajjar</td>\n",
       "      <td>KUNVARJI REALTY BROKERS</td>\n",
       "      <td>Arvind Highgrove</td>\n",
       "      <td>Mr.  K M Sharma</td>\n",
       "      <td>ENQ - 00112560</td>\n",
       "      <td>07929701996</td>\n",
       "    </tr>\n",
       "  </tbody>\n",
       "</table>\n",
       "</div>"
      ],
      "text/plain": [
       "  enq_created_date  enq_status       orginal_source           enq_source  \\\n",
       "0       2020-11-30           1  Property Consultant  Property Consultant   \n",
       "1       2020-09-26           1  Property Consultant  Property Consultant   \n",
       "2       2020-09-26           1  Property Consultant  Property Consultant   \n",
       "3       2020-10-10           1  Property Consultant  Property Consultant   \n",
       "4       2020-10-10           1  Property Consultant  Property Consultant   \n",
       "\n",
       "  enq_last_modified_date            CP_Name              CP_org_name  \\\n",
       "0              12/6/2021  Jitendra Bhagnani      UMESHKUMAR BHAGLANI   \n",
       "1               4/6/2021     Pranav Gadhiya           Pranav Gadhiya   \n",
       "2               4/6/2021     Pranav Gadhiya           Pranav Gadhiya   \n",
       "3              12/6/2021    Prashant Gajjar  KUNVARJI REALTY BROKERS   \n",
       "4              12/6/2021    Prashant Gajjar  KUNVARJI REALTY BROKERS   \n",
       "\n",
       "            project               customer_name          enq_id  \\\n",
       "0  Arvind Highgrove  Mrs.  Gandhi Salooni Varun  ENQ - 00126203   \n",
       "1  Arvind Highgrove           Mr. LALIT TYAGI .  ENQ - 00108903   \n",
       "2  Arvind Highgrove           Mr. LALIT TYAGI .  ENQ - 00108903   \n",
       "3  Arvind Highgrove             Mr.  K M Sharma  ENQ - 00112560   \n",
       "4  Arvind Highgrove             Mr.  K M Sharma  ENQ - 00112560   \n",
       "\n",
       "           mobile  \n",
       "0  00919638073331  \n",
       "1     07622012101  \n",
       "2     07622012101  \n",
       "3     07929701996  \n",
       "4     07929701996  "
      ]
     },
     "execution_count": 84,
     "metadata": {},
     "output_type": "execute_result"
    }
   ],
   "source": [
    "lead_highgrove_clean.head()"
   ]
  },
  {
   "cell_type": "code",
   "execution_count": 85,
   "metadata": {},
   "outputs": [
    {
     "name": "stdout",
     "output_type": "stream",
     "text": [
      "<class 'pandas.core.frame.DataFrame'>\n",
      "RangeIndex: 3785 entries, 0 to 3784\n",
      "Data columns (total 11 columns):\n",
      " #   Column                  Non-Null Count  Dtype         \n",
      "---  ------                  --------------  -----         \n",
      " 0   enq_created_date        3785 non-null   datetime64[ns]\n",
      " 1   enq_status              3785 non-null   int64         \n",
      " 2   orginal_source          3722 non-null   object        \n",
      " 3   enq_source              3744 non-null   object        \n",
      " 4   enq_last_modified_date  3785 non-null   object        \n",
      " 5   CP_Name                 512 non-null    object        \n",
      " 6   CP_org_name             515 non-null    object        \n",
      " 7   project                 3785 non-null   object        \n",
      " 8   customer_name           3785 non-null   object        \n",
      " 9   enq_id                  3785 non-null   object        \n",
      " 10  mobile                  3784 non-null   object        \n",
      "dtypes: datetime64[ns](1), int64(1), object(9)\n",
      "memory usage: 325.4+ KB\n"
     ]
    }
   ],
   "source": [
    "lead_highgrove_clean.info()"
   ]
  },
  {
   "cell_type": "code",
   "execution_count": 86,
   "metadata": {},
   "outputs": [
    {
     "data": {
      "text/plain": [
       "enq_created_date           203\n",
       "enq_status                   2\n",
       "orginal_source              21\n",
       "enq_source                  18\n",
       "enq_last_modified_date     223\n",
       "CP_Name                     50\n",
       "CP_org_name                 45\n",
       "project                      1\n",
       "customer_name             1144\n",
       "enq_id                    1157\n",
       "mobile                    1154\n",
       "dtype: int64"
      ]
     },
     "execution_count": 86,
     "metadata": {},
     "output_type": "execute_result"
    }
   ],
   "source": [
    "lead_highgrove_clean.nunique()"
   ]
  },
  {
   "cell_type": "code",
   "execution_count": 87,
   "metadata": {},
   "outputs": [],
   "source": [
    "useless_columns = ['enq_last_modified_date', 'project', 'customer_name', 'enq_id', 'mobile', 'CP_Name', 'CP_org_name']\n",
    "\n",
    "lead_highgrove_clean.drop(useless_columns,axis=1, inplace=True )"
   ]
  },
  {
   "cell_type": "code",
   "execution_count": 88,
   "metadata": {},
   "outputs": [
    {
     "data": {
      "text/html": [
       "<div>\n",
       "<style scoped>\n",
       "    .dataframe tbody tr th:only-of-type {\n",
       "        vertical-align: middle;\n",
       "    }\n",
       "\n",
       "    .dataframe tbody tr th {\n",
       "        vertical-align: top;\n",
       "    }\n",
       "\n",
       "    .dataframe thead th {\n",
       "        text-align: right;\n",
       "    }\n",
       "</style>\n",
       "<table border=\"1\" class=\"dataframe\">\n",
       "  <thead>\n",
       "    <tr style=\"text-align: right;\">\n",
       "      <th></th>\n",
       "      <th>enq_created_date</th>\n",
       "      <th>enq_status</th>\n",
       "      <th>orginal_source</th>\n",
       "      <th>enq_source</th>\n",
       "    </tr>\n",
       "  </thead>\n",
       "  <tbody>\n",
       "    <tr>\n",
       "      <th>0</th>\n",
       "      <td>2020-11-30</td>\n",
       "      <td>1</td>\n",
       "      <td>Property Consultant</td>\n",
       "      <td>Property Consultant</td>\n",
       "    </tr>\n",
       "    <tr>\n",
       "      <th>1</th>\n",
       "      <td>2020-09-26</td>\n",
       "      <td>1</td>\n",
       "      <td>Property Consultant</td>\n",
       "      <td>Property Consultant</td>\n",
       "    </tr>\n",
       "    <tr>\n",
       "      <th>2</th>\n",
       "      <td>2020-09-26</td>\n",
       "      <td>1</td>\n",
       "      <td>Property Consultant</td>\n",
       "      <td>Property Consultant</td>\n",
       "    </tr>\n",
       "    <tr>\n",
       "      <th>3</th>\n",
       "      <td>2020-10-10</td>\n",
       "      <td>1</td>\n",
       "      <td>Property Consultant</td>\n",
       "      <td>Property Consultant</td>\n",
       "    </tr>\n",
       "    <tr>\n",
       "      <th>4</th>\n",
       "      <td>2020-10-10</td>\n",
       "      <td>1</td>\n",
       "      <td>Property Consultant</td>\n",
       "      <td>Property Consultant</td>\n",
       "    </tr>\n",
       "  </tbody>\n",
       "</table>\n",
       "</div>"
      ],
      "text/plain": [
       "  enq_created_date  enq_status       orginal_source           enq_source\n",
       "0       2020-11-30           1  Property Consultant  Property Consultant\n",
       "1       2020-09-26           1  Property Consultant  Property Consultant\n",
       "2       2020-09-26           1  Property Consultant  Property Consultant\n",
       "3       2020-10-10           1  Property Consultant  Property Consultant\n",
       "4       2020-10-10           1  Property Consultant  Property Consultant"
      ]
     },
     "execution_count": 88,
     "metadata": {},
     "output_type": "execute_result"
    }
   ],
   "source": [
    "lead_highgrove_clean.head()"
   ]
  },
  {
   "cell_type": "code",
   "execution_count": 93,
   "metadata": {},
   "outputs": [],
   "source": [
    "lead_highgrove_clean['day'] = lead_highgrove_clean['enq_created_date'].dt.day"
   ]
  },
  {
   "cell_type": "code",
   "execution_count": 90,
   "metadata": {},
   "outputs": [
    {
     "data": {
      "text/html": [
       "<div>\n",
       "<style scoped>\n",
       "    .dataframe tbody tr th:only-of-type {\n",
       "        vertical-align: middle;\n",
       "    }\n",
       "\n",
       "    .dataframe tbody tr th {\n",
       "        vertical-align: top;\n",
       "    }\n",
       "\n",
       "    .dataframe thead th {\n",
       "        text-align: right;\n",
       "    }\n",
       "</style>\n",
       "<table border=\"1\" class=\"dataframe\">\n",
       "  <thead>\n",
       "    <tr style=\"text-align: right;\">\n",
       "      <th></th>\n",
       "      <th>enq_created_date</th>\n",
       "      <th>enq_status</th>\n",
       "      <th>orginal_source</th>\n",
       "      <th>enq_source</th>\n",
       "      <th>day</th>\n",
       "    </tr>\n",
       "  </thead>\n",
       "  <tbody>\n",
       "    <tr>\n",
       "      <th>0</th>\n",
       "      <td>2020-11-30</td>\n",
       "      <td>1</td>\n",
       "      <td>Property Consultant</td>\n",
       "      <td>Property Consultant</td>\n",
       "      <td>30</td>\n",
       "    </tr>\n",
       "    <tr>\n",
       "      <th>1</th>\n",
       "      <td>2020-09-26</td>\n",
       "      <td>1</td>\n",
       "      <td>Property Consultant</td>\n",
       "      <td>Property Consultant</td>\n",
       "      <td>26</td>\n",
       "    </tr>\n",
       "    <tr>\n",
       "      <th>2</th>\n",
       "      <td>2020-09-26</td>\n",
       "      <td>1</td>\n",
       "      <td>Property Consultant</td>\n",
       "      <td>Property Consultant</td>\n",
       "      <td>26</td>\n",
       "    </tr>\n",
       "    <tr>\n",
       "      <th>3</th>\n",
       "      <td>2020-10-10</td>\n",
       "      <td>1</td>\n",
       "      <td>Property Consultant</td>\n",
       "      <td>Property Consultant</td>\n",
       "      <td>10</td>\n",
       "    </tr>\n",
       "    <tr>\n",
       "      <th>4</th>\n",
       "      <td>2020-10-10</td>\n",
       "      <td>1</td>\n",
       "      <td>Property Consultant</td>\n",
       "      <td>Property Consultant</td>\n",
       "      <td>10</td>\n",
       "    </tr>\n",
       "  </tbody>\n",
       "</table>\n",
       "</div>"
      ],
      "text/plain": [
       "  enq_created_date  enq_status       orginal_source           enq_source  day\n",
       "0       2020-11-30           1  Property Consultant  Property Consultant   30\n",
       "1       2020-09-26           1  Property Consultant  Property Consultant   26\n",
       "2       2020-09-26           1  Property Consultant  Property Consultant   26\n",
       "3       2020-10-10           1  Property Consultant  Property Consultant   10\n",
       "4       2020-10-10           1  Property Consultant  Property Consultant   10"
      ]
     },
     "execution_count": 90,
     "metadata": {},
     "output_type": "execute_result"
    }
   ],
   "source": [
    "lead_highgrove_clean.head()"
   ]
  },
  {
   "cell_type": "code",
   "execution_count": 94,
   "metadata": {},
   "outputs": [],
   "source": [
    "lead_highgrove_clean['week']= lead_highgrove_clean['enq_created_date'].dt.week\n",
    "lead_highgrove_clean['weekday']=lead_highgrove_clean['enq_created_date'].dt.dayofweek"
   ]
  },
  {
   "cell_type": "code",
   "execution_count": 95,
   "metadata": {},
   "outputs": [
    {
     "data": {
      "text/html": [
       "<div>\n",
       "<style scoped>\n",
       "    .dataframe tbody tr th:only-of-type {\n",
       "        vertical-align: middle;\n",
       "    }\n",
       "\n",
       "    .dataframe tbody tr th {\n",
       "        vertical-align: top;\n",
       "    }\n",
       "\n",
       "    .dataframe thead th {\n",
       "        text-align: right;\n",
       "    }\n",
       "</style>\n",
       "<table border=\"1\" class=\"dataframe\">\n",
       "  <thead>\n",
       "    <tr style=\"text-align: right;\">\n",
       "      <th></th>\n",
       "      <th>enq_created_date</th>\n",
       "      <th>enq_status</th>\n",
       "      <th>orginal_source</th>\n",
       "      <th>enq_source</th>\n",
       "      <th>day</th>\n",
       "      <th>week</th>\n",
       "      <th>weekday</th>\n",
       "    </tr>\n",
       "  </thead>\n",
       "  <tbody>\n",
       "    <tr>\n",
       "      <th>0</th>\n",
       "      <td>2020-11-30</td>\n",
       "      <td>1</td>\n",
       "      <td>Property Consultant</td>\n",
       "      <td>Property Consultant</td>\n",
       "      <td>30</td>\n",
       "      <td>49</td>\n",
       "      <td>0</td>\n",
       "    </tr>\n",
       "    <tr>\n",
       "      <th>1</th>\n",
       "      <td>2020-09-26</td>\n",
       "      <td>1</td>\n",
       "      <td>Property Consultant</td>\n",
       "      <td>Property Consultant</td>\n",
       "      <td>26</td>\n",
       "      <td>39</td>\n",
       "      <td>5</td>\n",
       "    </tr>\n",
       "    <tr>\n",
       "      <th>2</th>\n",
       "      <td>2020-09-26</td>\n",
       "      <td>1</td>\n",
       "      <td>Property Consultant</td>\n",
       "      <td>Property Consultant</td>\n",
       "      <td>26</td>\n",
       "      <td>39</td>\n",
       "      <td>5</td>\n",
       "    </tr>\n",
       "    <tr>\n",
       "      <th>3</th>\n",
       "      <td>2020-10-10</td>\n",
       "      <td>1</td>\n",
       "      <td>Property Consultant</td>\n",
       "      <td>Property Consultant</td>\n",
       "      <td>10</td>\n",
       "      <td>41</td>\n",
       "      <td>5</td>\n",
       "    </tr>\n",
       "    <tr>\n",
       "      <th>4</th>\n",
       "      <td>2020-10-10</td>\n",
       "      <td>1</td>\n",
       "      <td>Property Consultant</td>\n",
       "      <td>Property Consultant</td>\n",
       "      <td>10</td>\n",
       "      <td>41</td>\n",
       "      <td>5</td>\n",
       "    </tr>\n",
       "  </tbody>\n",
       "</table>\n",
       "</div>"
      ],
      "text/plain": [
       "  enq_created_date  enq_status       orginal_source           enq_source  day  \\\n",
       "0       2020-11-30           1  Property Consultant  Property Consultant   30   \n",
       "1       2020-09-26           1  Property Consultant  Property Consultant   26   \n",
       "2       2020-09-26           1  Property Consultant  Property Consultant   26   \n",
       "3       2020-10-10           1  Property Consultant  Property Consultant   10   \n",
       "4       2020-10-10           1  Property Consultant  Property Consultant   10   \n",
       "\n",
       "   week  weekday  \n",
       "0    49        0  \n",
       "1    39        5  \n",
       "2    39        5  \n",
       "3    41        5  \n",
       "4    41        5  "
      ]
     },
     "execution_count": 95,
     "metadata": {},
     "output_type": "execute_result"
    }
   ],
   "source": [
    "lead_highgrove_clean.head()"
   ]
  },
  {
   "cell_type": "code",
   "execution_count": 96,
   "metadata": {},
   "outputs": [
    {
     "data": {
      "text/plain": [
       "<matplotlib.axes._subplots.AxesSubplot at 0x241ed87bb50>"
      ]
     },
     "execution_count": 96,
     "metadata": {},
     "output_type": "execute_result"
    },
    {
     "data": {
      "image/png": "[encoded data removed]",
      "text/plain": [
       "<Figure size 432x288 with 1 Axes>"
      ]
     },
     "metadata": {
      "needs_background": "light"
     },
     "output_type": "display_data"
    }
   ],
   "source": [
    "lead_highgrove_clean.groupby(['enq_status']).size().plot(kind='bar')"
   ]
  },
  {
   "cell_type": "code",
   "execution_count": 98,
   "metadata": {},
   "outputs": [],
   "source": [
    "lead_highgrove_clean.drop(['enq_created_date'],axis=1, inplace= True)"
   ]
  },
  {
   "cell_type": "code",
   "execution_count": null,
   "metadata": {},
   "outputs": [],
   "source": []
  },
  {
   "cell_type": "code",
   "execution_count": 99,
   "metadata": {},
   "outputs": [
    {
     "data": {
      "text/html": [
       "<div>\n",
       "<style scoped>\n",
       "    .dataframe tbody tr th:only-of-type {\n",
       "        vertical-align: middle;\n",
       "    }\n",
       "\n",
       "    .dataframe tbody tr th {\n",
       "        vertical-align: top;\n",
       "    }\n",
       "\n",
       "    .dataframe thead th {\n",
       "        text-align: right;\n",
       "    }\n",
       "</style>\n",
       "<table border=\"1\" class=\"dataframe\">\n",
       "  <thead>\n",
       "    <tr style=\"text-align: right;\">\n",
       "      <th></th>\n",
       "      <th>enq_status</th>\n",
       "      <th>orginal_source</th>\n",
       "      <th>enq_source</th>\n",
       "      <th>day</th>\n",
       "      <th>week</th>\n",
       "      <th>weekday</th>\n",
       "    </tr>\n",
       "  </thead>\n",
       "  <tbody>\n",
       "    <tr>\n",
       "      <th>0</th>\n",
       "      <td>1</td>\n",
       "      <td>Property Consultant</td>\n",
       "      <td>Property Consultant</td>\n",
       "      <td>30</td>\n",
       "      <td>49</td>\n",
       "      <td>0</td>\n",
       "    </tr>\n",
       "    <tr>\n",
       "      <th>1</th>\n",
       "      <td>1</td>\n",
       "      <td>Property Consultant</td>\n",
       "      <td>Property Consultant</td>\n",
       "      <td>26</td>\n",
       "      <td>39</td>\n",
       "      <td>5</td>\n",
       "    </tr>\n",
       "    <tr>\n",
       "      <th>2</th>\n",
       "      <td>1</td>\n",
       "      <td>Property Consultant</td>\n",
       "      <td>Property Consultant</td>\n",
       "      <td>26</td>\n",
       "      <td>39</td>\n",
       "      <td>5</td>\n",
       "    </tr>\n",
       "    <tr>\n",
       "      <th>3</th>\n",
       "      <td>1</td>\n",
       "      <td>Property Consultant</td>\n",
       "      <td>Property Consultant</td>\n",
       "      <td>10</td>\n",
       "      <td>41</td>\n",
       "      <td>5</td>\n",
       "    </tr>\n",
       "    <tr>\n",
       "      <th>4</th>\n",
       "      <td>1</td>\n",
       "      <td>Property Consultant</td>\n",
       "      <td>Property Consultant</td>\n",
       "      <td>10</td>\n",
       "      <td>41</td>\n",
       "      <td>5</td>\n",
       "    </tr>\n",
       "  </tbody>\n",
       "</table>\n",
       "</div>"
      ],
      "text/plain": [
       "   enq_status       orginal_source           enq_source  day  week  weekday\n",
       "0           1  Property Consultant  Property Consultant   30    49        0\n",
       "1           1  Property Consultant  Property Consultant   26    39        5\n",
       "2           1  Property Consultant  Property Consultant   26    39        5\n",
       "3           1  Property Consultant  Property Consultant   10    41        5\n",
       "4           1  Property Consultant  Property Consultant   10    41        5"
      ]
     },
     "execution_count": 99,
     "metadata": {},
     "output_type": "execute_result"
    }
   ],
   "source": [
    "lead_highgrove_clean.head()"
   ]
  },
  {
   "cell_type": "markdown",
   "metadata": {},
   "source": [
    "## VAriable types"
   ]
  },
  {
   "cell_type": "code",
   "execution_count": 100,
   "metadata": {},
   "outputs": [
    {
     "data": {
      "text/plain": [
       "enq_status         2\n",
       "orginal_source    21\n",
       "enq_source        18\n",
       "day               31\n",
       "week              40\n",
       "weekday            7\n",
       "dtype: int64"
      ]
     },
     "execution_count": 100,
     "metadata": {},
     "output_type": "execute_result"
    }
   ],
   "source": [
    "lead_highgrove_clean.nunique()"
   ]
  },
  {
   "cell_type": "code",
   "execution_count": 101,
   "metadata": {},
   "outputs": [],
   "source": [
    "# enq_status = Target variable\n",
    "# orginal_source = categorical\n",
    "# enq_source = categorical\n",
    "# day = categorical\n",
    "#week = categorical\n",
    "#weekday = categorical"
   ]
  },
  {
   "cell_type": "code",
   "execution_count": 108,
   "metadata": {},
   "outputs": [],
   "source": [
    "def plotbarcharts(inpdata, colstoplot):\n",
    "    %matplotlib inline\n",
    "    \n",
    "    import matplotlib.pyplot as plt\n",
    "    \n",
    "    fig, subplot = plt.subplots(nrows=1, ncols=len(colstoplot))\n",
    "    \n",
    "    fig.suptitle(\"Bar charts of \"+ str(colstoplot))\n",
    "    \n",
    "    for predictor, i in zip(colstoplot, range(len(colstoplot))):\n",
    "        inpdata.groupby(predictor).size().plot(kind='bar', ax = subplot[i], figsize=(20, 10))"
   ]
  },
  {
   "cell_type": "code",
   "execution_count": 109,
   "metadata": {},
   "outputs": [
    {
     "data": {
      "text/plain": [
       "Index(['enq_status', 'orginal_source', 'enq_source', 'day', 'week', 'weekday'], dtype='object')"
      ]
     },
     "execution_count": 109,
     "metadata": {},
     "output_type": "execute_result"
    }
   ],
   "source": [
    "lead_highgrove_clean.columns"
   ]
  },
  {
   "cell_type": "code",
   "execution_count": 110,
   "metadata": {},
   "outputs": [],
   "source": [
    "catcols = ['orginal_source', 'enq_source', 'day', 'week', 'weekday']"
   ]
  },
  {
   "cell_type": "code",
   "execution_count": 111,
   "metadata": {},
   "outputs": [
    {
     "data": {
      "image/png": "[encoded data removed]",
      "text/plain": [
       "<Figure size 1440x720 with 5 Axes>"
      ]
     },
     "metadata": {
      "needs_background": "light"
     },
     "output_type": "display_data"
    }
   ],
   "source": [
    "plotbarcharts(lead_highgrove_clean, catcols)"
   ]
  },
  {
   "cell_type": "code",
   "execution_count": 112,
   "metadata": {},
   "outputs": [
    {
     "data": {
      "text/plain": [
       "enq_status         0\n",
       "orginal_source    63\n",
       "enq_source        41\n",
       "day                0\n",
       "week               0\n",
       "weekday            0\n",
       "dtype: int64"
      ]
     },
     "execution_count": 112,
     "metadata": {},
     "output_type": "execute_result"
    }
   ],
   "source": [
    "lead_highgrove_clean.isna().sum()"
   ]
  },
  {
   "cell_type": "code",
   "execution_count": 114,
   "metadata": {},
   "outputs": [],
   "source": [
    "lead_highgrove_clean['orginal_source'].fillna(lead_highgrove_clean['orginal_source'].mode()[0], inplace=True)\n",
    "\n",
    "lead_highgrove_clean['enq_source'].fillna(lead_highgrove_clean['enq_source'].mode()[0], inplace=True)"
   ]
  },
  {
   "cell_type": "code",
   "execution_count": 115,
   "metadata": {},
   "outputs": [
    {
     "data": {
      "text/plain": [
       "enq_status        0\n",
       "orginal_source    0\n",
       "enq_source        0\n",
       "day               0\n",
       "week              0\n",
       "weekday           0\n",
       "dtype: int64"
      ]
     },
     "execution_count": 115,
     "metadata": {},
     "output_type": "execute_result"
    }
   ],
   "source": [
    "lead_highgrove_clean.isna().sum()"
   ]
  },
  {
   "cell_type": "code",
   "execution_count": 116,
   "metadata": {},
   "outputs": [
    {
     "data": {
      "text/plain": [
       "['orginal_source', 'enq_source', 'day', 'week', 'weekday']"
      ]
     },
     "execution_count": 116,
     "metadata": {},
     "output_type": "execute_result"
    }
   ],
   "source": [
    "catcols"
   ]
  },
  {
   "cell_type": "code",
   "execution_count": 118,
   "metadata": {},
   "outputs": [
    {
     "data": {
      "image/png": "[encoded data removed]",
      "text/plain": [
       "<Figure size 1440x720 with 5 Axes>"
      ]
     },
     "metadata": {
      "needs_background": "light"
     },
     "output_type": "display_data"
    }
   ],
   "source": [
    "import matplotlib.pyplot as plt\n",
    "\n",
    "fig, subplot = plt.subplots(nrows=len(catcols), ncols=1, figsize=(20,10))\n",
    "\n",
    "for predictor, i in zip(catcols, range(len(catcols))):\n",
    "    crosstabresult=pd.crosstab(index=lead_highgrove_clean[predictor], columns=lead_highgrove_clean['enq_status'])\n",
    "    crosstabresult.plot.bar(color = ['red', 'green'], ax=subplot[i], title = predictor + 'Vs ' + ' enq_status')"
   ]
  },
  {
   "cell_type": "markdown",
   "metadata": {},
   "source": [
    "## Chi Square test"
   ]
  },
  {
   "cell_type": "code",
   "execution_count": 119,
   "metadata": {},
   "outputs": [],
   "source": [
    "def chifunction(inpdata, targetvariable, catcols):\n",
    "    from scipy.stats import chi2_contingency\n",
    "    \n",
    "    selectedpredictors = []\n",
    "\n",
    "    \n",
    "    for predictor in catcols:\n",
    "        crosstabresult = pd.crosstab(index=inpdata[targetvariable], columns=inpdata[predictor])\n",
    "        chi2result = chi2_contingency(crosstabresult)\n",
    "        \n",
    "        if (chi2result[1] < 0.05):\n",
    "            print(predictor, \"is correlated with \",targetvariable, \" |P Value is\", chi2result[1] )\n",
    "            selectedpredictors.append(predictor)\n",
    "        else:\n",
    "            print(predictor, \"is not correlated with \", targetvariable, \" P| value is \", chi2result[1])\n",
    "            \n",
    "    return(selectedpredictors)"
   ]
  },
  {
   "cell_type": "code",
   "execution_count": 120,
   "metadata": {},
   "outputs": [],
   "source": [
    "targetvar = 'enq_status'"
   ]
  },
  {
   "cell_type": "code",
   "execution_count": 121,
   "metadata": {},
   "outputs": [
    {
     "name": "stdout",
     "output_type": "stream",
     "text": [
      "orginal_source is correlated with  enq_status  |P Value is 2.2582973788076272e-178\n",
      "enq_source is correlated with  enq_status  |P Value is 3.050469071111938e-190\n",
      "day is correlated with  enq_status  |P Value is 6.586367245867435e-45\n",
      "week is correlated with  enq_status  |P Value is 1.2998596297610043e-65\n",
      "weekday is correlated with  enq_status  |P Value is 1.2842118824900586e-14\n"
     ]
    },
    {
     "data": {
      "text/plain": [
       "['orginal_source', 'enq_source', 'day', 'week', 'weekday']"
      ]
     },
     "execution_count": 121,
     "metadata": {},
     "output_type": "execute_result"
    }
   ],
   "source": [
    "chifunction(lead_highgrove_clean, targetvar, catcols)"
   ]
  },
  {
   "cell_type": "code",
   "execution_count": 122,
   "metadata": {},
   "outputs": [],
   "source": [
    "selectedcols = ['orginal_source', 'enq_source', 'day', 'week', 'weekday']"
   ]
  },
  {
   "cell_type": "code",
   "execution_count": 123,
   "metadata": {},
   "outputs": [],
   "source": [
    "dataforml = lead_highgrove_clean[selectedcols]"
   ]
  },
  {
   "cell_type": "code",
   "execution_count": 124,
   "metadata": {},
   "outputs": [
    {
     "data": {
      "text/html": [
       "<div>\n",
       "<style scoped>\n",
       "    .dataframe tbody tr th:only-of-type {\n",
       "        vertical-align: middle;\n",
       "    }\n",
       "\n",
       "    .dataframe tbody tr th {\n",
       "        vertical-align: top;\n",
       "    }\n",
       "\n",
       "    .dataframe thead th {\n",
       "        text-align: right;\n",
       "    }\n",
       "</style>\n",
       "<table border=\"1\" class=\"dataframe\">\n",
       "  <thead>\n",
       "    <tr style=\"text-align: right;\">\n",
       "      <th></th>\n",
       "      <th>orginal_source</th>\n",
       "      <th>enq_source</th>\n",
       "      <th>day</th>\n",
       "      <th>week</th>\n",
       "      <th>weekday</th>\n",
       "    </tr>\n",
       "  </thead>\n",
       "  <tbody>\n",
       "    <tr>\n",
       "      <th>0</th>\n",
       "      <td>Property Consultant</td>\n",
       "      <td>Property Consultant</td>\n",
       "      <td>30</td>\n",
       "      <td>49</td>\n",
       "      <td>0</td>\n",
       "    </tr>\n",
       "    <tr>\n",
       "      <th>1</th>\n",
       "      <td>Property Consultant</td>\n",
       "      <td>Property Consultant</td>\n",
       "      <td>26</td>\n",
       "      <td>39</td>\n",
       "      <td>5</td>\n",
       "    </tr>\n",
       "    <tr>\n",
       "      <th>2</th>\n",
       "      <td>Property Consultant</td>\n",
       "      <td>Property Consultant</td>\n",
       "      <td>26</td>\n",
       "      <td>39</td>\n",
       "      <td>5</td>\n",
       "    </tr>\n",
       "    <tr>\n",
       "      <th>3</th>\n",
       "      <td>Property Consultant</td>\n",
       "      <td>Property Consultant</td>\n",
       "      <td>10</td>\n",
       "      <td>41</td>\n",
       "      <td>5</td>\n",
       "    </tr>\n",
       "    <tr>\n",
       "      <th>4</th>\n",
       "      <td>Property Consultant</td>\n",
       "      <td>Property Consultant</td>\n",
       "      <td>10</td>\n",
       "      <td>41</td>\n",
       "      <td>5</td>\n",
       "    </tr>\n",
       "  </tbody>\n",
       "</table>\n",
       "</div>"
      ],
      "text/plain": [
       "        orginal_source           enq_source  day  week  weekday\n",
       "0  Property Consultant  Property Consultant   30    49        0\n",
       "1  Property Consultant  Property Consultant   26    39        5\n",
       "2  Property Consultant  Property Consultant   26    39        5\n",
       "3  Property Consultant  Property Consultant   10    41        5\n",
       "4  Property Consultant  Property Consultant   10    41        5"
      ]
     },
     "execution_count": 124,
     "metadata": {},
     "output_type": "execute_result"
    }
   ],
   "source": [
    "dataforml.head()"
   ]
  },
  {
   "cell_type": "code",
   "execution_count": 125,
   "metadata": {},
   "outputs": [],
   "source": [
    "dataforml_num = pd.get_dummies(dataforml)"
   ]
  },
  {
   "cell_type": "code",
   "execution_count": 126,
   "metadata": {},
   "outputs": [
    {
     "data": {
      "text/html": [
       "<div>\n",
       "<style scoped>\n",
       "    .dataframe tbody tr th:only-of-type {\n",
       "        vertical-align: middle;\n",
       "    }\n",
       "\n",
       "    .dataframe tbody tr th {\n",
       "        vertical-align: top;\n",
       "    }\n",
       "\n",
       "    .dataframe thead th {\n",
       "        text-align: right;\n",
       "    }\n",
       "</style>\n",
       "<table border=\"1\" class=\"dataframe\">\n",
       "  <thead>\n",
       "    <tr style=\"text-align: right;\">\n",
       "      <th></th>\n",
       "      <th>day</th>\n",
       "      <th>week</th>\n",
       "      <th>weekday</th>\n",
       "      <th>orginal_source_Bulk SMS</th>\n",
       "      <th>orginal_source_Channel Partner</th>\n",
       "      <th>orginal_source_Cross Project</th>\n",
       "      <th>orginal_source_Customer Referral</th>\n",
       "      <th>orginal_source_Database calling</th>\n",
       "      <th>orginal_source_Direct Walk-in</th>\n",
       "      <th>orginal_source_Emailers</th>\n",
       "      <th>...</th>\n",
       "      <th>enq_source_Hoarding</th>\n",
       "      <th>enq_source_Loyalty</th>\n",
       "      <th>enq_source_Newspaper Ad</th>\n",
       "      <th>enq_source_Online Ads</th>\n",
       "      <th>enq_source_Property Consultant</th>\n",
       "      <th>enq_source_Property Portal</th>\n",
       "      <th>enq_source_SMS</th>\n",
       "      <th>enq_source_Site Branding</th>\n",
       "      <th>enq_source_Website</th>\n",
       "      <th>enq_source_Word of Mouth</th>\n",
       "    </tr>\n",
       "  </thead>\n",
       "  <tbody>\n",
       "    <tr>\n",
       "      <th>0</th>\n",
       "      <td>30</td>\n",
       "      <td>49</td>\n",
       "      <td>0</td>\n",
       "      <td>0</td>\n",
       "      <td>0</td>\n",
       "      <td>0</td>\n",
       "      <td>0</td>\n",
       "      <td>0</td>\n",
       "      <td>0</td>\n",
       "      <td>0</td>\n",
       "      <td>...</td>\n",
       "      <td>0</td>\n",
       "      <td>0</td>\n",
       "      <td>0</td>\n",
       "      <td>0</td>\n",
       "      <td>1</td>\n",
       "      <td>0</td>\n",
       "      <td>0</td>\n",
       "      <td>0</td>\n",
       "      <td>0</td>\n",
       "      <td>0</td>\n",
       "    </tr>\n",
       "    <tr>\n",
       "      <th>1</th>\n",
       "      <td>26</td>\n",
       "      <td>39</td>\n",
       "      <td>5</td>\n",
       "      <td>0</td>\n",
       "      <td>0</td>\n",
       "      <td>0</td>\n",
       "      <td>0</td>\n",
       "      <td>0</td>\n",
       "      <td>0</td>\n",
       "      <td>0</td>\n",
       "      <td>...</td>\n",
       "      <td>0</td>\n",
       "      <td>0</td>\n",
       "      <td>0</td>\n",
       "      <td>0</td>\n",
       "      <td>1</td>\n",
       "      <td>0</td>\n",
       "      <td>0</td>\n",
       "      <td>0</td>\n",
       "      <td>0</td>\n",
       "      <td>0</td>\n",
       "    </tr>\n",
       "    <tr>\n",
       "      <th>2</th>\n",
       "      <td>26</td>\n",
       "      <td>39</td>\n",
       "      <td>5</td>\n",
       "      <td>0</td>\n",
       "      <td>0</td>\n",
       "      <td>0</td>\n",
       "      <td>0</td>\n",
       "      <td>0</td>\n",
       "      <td>0</td>\n",
       "      <td>0</td>\n",
       "      <td>...</td>\n",
       "      <td>0</td>\n",
       "      <td>0</td>\n",
       "      <td>0</td>\n",
       "      <td>0</td>\n",
       "      <td>1</td>\n",
       "      <td>0</td>\n",
       "      <td>0</td>\n",
       "      <td>0</td>\n",
       "      <td>0</td>\n",
       "      <td>0</td>\n",
       "    </tr>\n",
       "    <tr>\n",
       "      <th>3</th>\n",
       "      <td>10</td>\n",
       "      <td>41</td>\n",
       "      <td>5</td>\n",
       "      <td>0</td>\n",
       "      <td>0</td>\n",
       "      <td>0</td>\n",
       "      <td>0</td>\n",
       "      <td>0</td>\n",
       "      <td>0</td>\n",
       "      <td>0</td>\n",
       "      <td>...</td>\n",
       "      <td>0</td>\n",
       "      <td>0</td>\n",
       "      <td>0</td>\n",
       "      <td>0</td>\n",
       "      <td>1</td>\n",
       "      <td>0</td>\n",
       "      <td>0</td>\n",
       "      <td>0</td>\n",
       "      <td>0</td>\n",
       "      <td>0</td>\n",
       "    </tr>\n",
       "    <tr>\n",
       "      <th>4</th>\n",
       "      <td>10</td>\n",
       "      <td>41</td>\n",
       "      <td>5</td>\n",
       "      <td>0</td>\n",
       "      <td>0</td>\n",
       "      <td>0</td>\n",
       "      <td>0</td>\n",
       "      <td>0</td>\n",
       "      <td>0</td>\n",
       "      <td>0</td>\n",
       "      <td>...</td>\n",
       "      <td>0</td>\n",
       "      <td>0</td>\n",
       "      <td>0</td>\n",
       "      <td>0</td>\n",
       "      <td>1</td>\n",
       "      <td>0</td>\n",
       "      <td>0</td>\n",
       "      <td>0</td>\n",
       "      <td>0</td>\n",
       "      <td>0</td>\n",
       "    </tr>\n",
       "  </tbody>\n",
       "</table>\n",
       "<p>5 rows × 42 columns</p>\n",
       "</div>"
      ],
      "text/plain": [
       "   day  week  weekday  orginal_source_Bulk SMS  \\\n",
       "0   30    49        0                        0   \n",
       "1   26    39        5                        0   \n",
       "2   26    39        5                        0   \n",
       "3   10    41        5                        0   \n",
       "4   10    41        5                        0   \n",
       "\n",
       "   orginal_source_Channel Partner  orginal_source_Cross Project  \\\n",
       "0                               0                             0   \n",
       "1                               0                             0   \n",
       "2                               0                             0   \n",
       "3                               0                             0   \n",
       "4                               0                             0   \n",
       "\n",
       "   orginal_source_Customer Referral  orginal_source_Database calling  \\\n",
       "0                                 0                                0   \n",
       "1                                 0                                0   \n",
       "2                                 0                                0   \n",
       "3                                 0                                0   \n",
       "4                                 0                                0   \n",
       "\n",
       "   orginal_source_Direct Walk-in  orginal_source_Emailers  ...  \\\n",
       "0                              0                        0  ...   \n",
       "1                              0                        0  ...   \n",
       "2                              0                        0  ...   \n",
       "3                              0                        0  ...   \n",
       "4                              0                        0  ...   \n",
       "\n",
       "   enq_source_Hoarding  enq_source_Loyalty  enq_source_Newspaper Ad  \\\n",
       "0                    0                   0                        0   \n",
       "1                    0                   0                        0   \n",
       "2                    0                   0                        0   \n",
       "3                    0                   0                        0   \n",
       "4                    0                   0                        0   \n",
       "\n",
       "   enq_source_Online Ads  enq_source_Property Consultant  \\\n",
       "0                      0                               1   \n",
       "1                      0                               1   \n",
       "2                      0                               1   \n",
       "3                      0                               1   \n",
       "4                      0                               1   \n",
       "\n",
       "   enq_source_Property Portal  enq_source_SMS  enq_source_Site Branding  \\\n",
       "0                           0               0                         0   \n",
       "1                           0               0                         0   \n",
       "2                           0               0                         0   \n",
       "3                           0               0                         0   \n",
       "4                           0               0                         0   \n",
       "\n",
       "   enq_source_Website  enq_source_Word of Mouth  \n",
       "0                   0                         0  \n",
       "1                   0                         0  \n",
       "2                   0                         0  \n",
       "3                   0                         0  \n",
       "4                   0                         0  \n",
       "\n",
       "[5 rows x 42 columns]"
      ]
     },
     "execution_count": 126,
     "metadata": {},
     "output_type": "execute_result"
    }
   ],
   "source": [
    "dataforml_num.head()"
   ]
  },
  {
   "cell_type": "code",
   "execution_count": 128,
   "metadata": {},
   "outputs": [
    {
     "data": {
      "text/plain": [
       "Index(['day', 'week', 'weekday', 'orginal_source_Bulk SMS',\n",
       "       'orginal_source_Channel Partner', 'orginal_source_Cross Project',\n",
       "       'orginal_source_Customer Referral', 'orginal_source_Database calling',\n",
       "       'orginal_source_Direct Walk-in', 'orginal_source_Emailers',\n",
       "       'orginal_source_Employee Referral', 'orginal_source_Facebook',\n",
       "       'orginal_source_Google Adwords', 'orginal_source_Hoarding',\n",
       "       'orginal_source_Loyalty', 'orginal_source_Newspaper Ad',\n",
       "       'orginal_source_Online Ads', 'orginal_source_Property Consultant',\n",
       "       'orginal_source_Property Portal', 'orginal_source_SMS',\n",
       "       'orginal_source_Site Branding',\n",
       "       'orginal_source_Vision Espace Mr Mainik Punchal',\n",
       "       'orginal_source_Website', 'orginal_source_Word of Mouth',\n",
       "       'enq_source_Cross Project', 'enq_source_Customer Referral',\n",
       "       'enq_source_Database calling', 'enq_source_Direct Walk-in',\n",
       "       'enq_source_Emailers', 'enq_source_Employee Referral',\n",
       "       'enq_source_Facebook', 'enq_source_Google Adwords',\n",
       "       'enq_source_Hoarding', 'enq_source_Loyalty', 'enq_source_Newspaper Ad',\n",
       "       'enq_source_Online Ads', 'enq_source_Property Consultant',\n",
       "       'enq_source_Property Portal', 'enq_source_SMS',\n",
       "       'enq_source_Site Branding', 'enq_source_Website',\n",
       "       'enq_source_Word of Mouth'],\n",
       "      dtype='object')"
      ]
     },
     "execution_count": 128,
     "metadata": {},
     "output_type": "execute_result"
    }
   ],
   "source": [
    "dataforml_num.columns"
   ]
  },
  {
   "cell_type": "code",
   "execution_count": 129,
   "metadata": {},
   "outputs": [],
   "source": [
    "targetvar = 'enq_status'\n",
    "predictors = ['day', 'week', 'weekday', 'orginal_source_Bulk SMS',\n",
    "       'orginal_source_Channel Partner', 'orginal_source_Cross Project',\n",
    "       'orginal_source_Customer Referral', 'orginal_source_Database calling',\n",
    "       'orginal_source_Direct Walk-in', 'orginal_source_Emailers',\n",
    "       'orginal_source_Employee Referral', 'orginal_source_Facebook',\n",
    "       'orginal_source_Google Adwords', 'orginal_source_Hoarding',\n",
    "       'orginal_source_Loyalty', 'orginal_source_Newspaper Ad',\n",
    "       'orginal_source_Online Ads', 'orginal_source_Property Consultant',\n",
    "       'orginal_source_Property Portal', 'orginal_source_SMS',\n",
    "       'orginal_source_Site Branding',\n",
    "       'orginal_source_Vision Espace Mr Mainik Punchal',\n",
    "       'orginal_source_Website', 'orginal_source_Word of Mouth',\n",
    "       'enq_source_Cross Project', 'enq_source_Customer Referral',\n",
    "       'enq_source_Database calling', 'enq_source_Direct Walk-in',\n",
    "       'enq_source_Emailers', 'enq_source_Employee Referral',\n",
    "       'enq_source_Facebook', 'enq_source_Google Adwords',\n",
    "       'enq_source_Hoarding', 'enq_source_Loyalty', 'enq_source_Newspaper Ad',\n",
    "       'enq_source_Online Ads', 'enq_source_Property Consultant',\n",
    "       'enq_source_Property Portal', 'enq_source_SMS',\n",
    "       'enq_source_Site Branding', 'enq_source_Website',\n",
    "       'enq_source_Word of Mouth']"
   ]
  },
  {
   "cell_type": "code",
   "execution_count": 130,
   "metadata": {},
   "outputs": [],
   "source": [
    "dataforml_num['enq_status']= lead_highgrove_clean['enq_status']"
   ]
  },
  {
   "cell_type": "code",
   "execution_count": 131,
   "metadata": {},
   "outputs": [],
   "source": [
    "x = dataforml_num[predictors].values\n",
    "y = dataforml_num[targetvar].values\n",
    "\n",
    "\n",
    "from sklearn.model_selection import train_test_split\n",
    "\n",
    "x_train, x_test, y_train, y_test = train_test_split(x,y,test_size = 0.3, random_state = 123)"
   ]
  },
  {
   "cell_type": "code",
   "execution_count": 133,
   "metadata": {},
   "outputs": [
    {
     "name": "stdout",
     "output_type": "stream",
     "text": [
      "(2649, 42)\n",
      "(1136, 42)\n",
      "(2649,)\n",
      "(1136,)\n"
     ]
    }
   ],
   "source": [
    "print(x_train.shape)\n",
    "print(x_test.shape)\n",
    "print(y_train.shape)\n",
    "print(y_test.shape)"
   ]
  },
  {
   "cell_type": "markdown",
   "metadata": {},
   "source": [
    "## Logistic Regression"
   ]
  },
  {
   "cell_type": "code",
   "execution_count": 135,
   "metadata": {},
   "outputs": [
    {
     "name": "stdout",
     "output_type": "stream",
     "text": [
      "              precision    recall  f1-score   support\n",
      "\n",
      "           0       0.83      0.92      0.88       866\n",
      "           1       0.62      0.41      0.49       270\n",
      "\n",
      "    accuracy                           0.80      1136\n",
      "   macro avg       0.73      0.67      0.68      1136\n",
      "weighted avg       0.78      0.80      0.78      1136\n",
      "\n",
      "[[798 159]\n",
      " [ 68 111]]\n",
      "accuracy of the model on testing sample data:  0.78\n",
      "\n",
      " Accuracy values of 10 fold CV : \n",
      " [0.80001728 0.74464183 0.75006304 0.72876406 0.74589475 0.65725024\n",
      " 0.7716178  0.73047122 0.82154587 0.77055897]\n",
      "\n",
      " Average accuracy of model: \n",
      " 0.7520825057129604\n"
     ]
    }
   ],
   "source": [
    "from sklearn.linear_model import LogisticRegression\n",
    "\n",
    "clf = LogisticRegression(C=5, penalty='l2', solver='newton-cg')\n",
    "\n",
    "log = clf.fit(x_train, y_train)\n",
    "prediction = log.predict(x_test)\n",
    "\n",
    "from sklearn import metrics\n",
    "\n",
    "print(metrics.classification_report(y_test, prediction))\n",
    "print(metrics.confusion_matrix(prediction, y_test))\n",
    "\n",
    "f1_score = metrics.f1_score(y_test, prediction, average='weighted')\n",
    "print(\"accuracy of the model on testing sample data: \", round(f1_score, 2))\n",
    "\n",
    "from sklearn.model_selection import cross_val_score\n",
    "\n",
    "accuracy_val = cross_val_score(log, x,y, cv=10, scoring='f1_weighted')\n",
    "\n",
    "print(\"\\n Accuracy values of 10 fold CV : \\n\", accuracy_val)\n",
    "print(\"\\n Average accuracy of model: \\n\", np.mean(accuracy_val))\n",
    "\n"
   ]
  },
  {
   "cell_type": "code",
   "execution_count": null,
   "metadata": {},
   "outputs": [],
   "source": []
  }
 ],
 "metadata": {
  "kernelspec": {
   "display_name": "Python 3",
   "language": "python",
   "name": "python3"
  },
  "language_info": {
   "codemirror_mode": {
    "name": "ipython",
    "version": 3
   },
   "file_extension": ".py",
   "mimetype": "text/x-python",
   "name": "python",
   "nbconvert_exporter": "python",
   "pygments_lexer": "ipython3",
   "version": "3.8.3"
  }
 },
 "nbformat": 4,
 "nbformat_minor": 4
}
